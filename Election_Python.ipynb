{
  "nbformat": 4,
  "nbformat_minor": 0,
  "metadata": {
    "colab": {
      "name": "Election_Python.ipynb",
      "provenance": [],
      "collapsed_sections": [],
      "include_colab_link": true
    },
    "kernelspec": {
      "name": "python3",
      "display_name": "Python 3"
    }
  },
  "cells": [
    {
      "cell_type": "markdown",
      "metadata": {
        "id": "view-in-github",
        "colab_type": "text"
      },
      "source": [
        "<a href=\"https://colab.research.google.com/github/secant78/Election-2020-Demographic-Analysis/blob/main/Election_Python.ipynb\" target=\"_parent\"><img src=\"https://colab.research.google.com/assets/colab-badge.svg\" alt=\"Open In Colab\"/></a>"
      ]
    },
    {
      "cell_type": "code",
      "metadata": {
        "id": "etP9zGEKoG8r",
        "colab": {
          "base_uri": "https://localhost:8080/"
        },
        "outputId": "2ef37506-22b9-44f3-b8c3-2f1ebcb95464"
      },
      "source": [
        "import os\n",
        "import math\n",
        "import string\n",
        "#import data set to list\n",
        "import glob\n",
        "import pandas as pd\n",
        "import numpy as np\n",
        "\n",
        "\n",
        "#\"/content/drive/My Drive/\"\n",
        "from google.colab import drive\n",
        "drive.mount('/content/drive')"
      ],
      "execution_count": null,
      "outputs": [
        {
          "output_type": "stream",
          "text": [
            "Mounted at /content/drive\n"
          ],
          "name": "stdout"
        }
      ]
    },
    {
      "cell_type": "code",
      "metadata": {
        "id": "muFnjpuAQv6b"
      },
      "source": [
        "check = pd.DataFrame([[1,2,3,4,5],[6,7,8,9,10]])"
      ],
      "execution_count": null,
      "outputs": []
    },
    {
      "cell_type": "code",
      "metadata": {
        "id": "wla-R6naS2sk",
        "colab": {
          "base_uri": "https://localhost:8080/"
        },
        "outputId": "f6bb01ac-7005-4064-ff56-83fd8d669d40"
      },
      "source": [
        "print(check)"
      ],
      "execution_count": null,
      "outputs": [
        {
          "output_type": "stream",
          "text": [
            "   0  1  2  3   4\n",
            "0  1  2  3  4   5\n",
            "1  6  7  8  9  10\n"
          ],
          "name": "stdout"
        }
      ]
    },
    {
      "cell_type": "code",
      "metadata": {
        "id": "Rtkv4OrpTBaX",
        "colab": {
          "base_uri": "https://localhost:8080/"
        },
        "outputId": "4dcc7166-8ac2-4a21-999e-ce06bf7da0a4"
      },
      "source": [
        "print(check.sum(axis='rows'))"
      ],
      "execution_count": null,
      "outputs": [
        {
          "output_type": "stream",
          "text": [
            "0     7\n",
            "1     9\n",
            "2    11\n",
            "3    13\n",
            "4    15\n",
            "dtype: int64\n"
          ],
          "name": "stdout"
        }
      ]
    },
    {
      "cell_type": "code",
      "metadata": {
        "id": "AcNCkZ0HTs7a"
      },
      "source": [
        "check1 = pd.DataFrame([1,2,3,4])"
      ],
      "execution_count": null,
      "outputs": []
    },
    {
      "cell_type": "code",
      "metadata": {
        "id": "dDiR9X82T0UK",
        "colab": {
          "base_uri": "https://localhost:8080/"
        },
        "outputId": "00a29862-104b-48c2-fd06-866ae2e02526"
      },
      "source": [
        "something1 = (90+91.67+90+60+0+98)/(98+98+96+100+96+100+100)\n",
        "something1"
      ],
      "execution_count": null,
      "outputs": [
        {
          "output_type": "execute_result",
          "data": {
            "text/plain": [
              "0.6245203488372093"
            ]
          },
          "metadata": {
            "tags": []
          },
          "execution_count": 21
        }
      ]
    },
    {
      "cell_type": "code",
      "metadata": {
        "id": "DLLpZcX7VWnF",
        "colab": {
          "base_uri": "https://localhost:8080/"
        },
        "outputId": "f4d86258-b7bd-442f-95de-a0ca7c1ed4f9"
      },
      "source": [
        ".6245*.3"
      ],
      "execution_count": null,
      "outputs": [
        {
          "output_type": "execute_result",
          "data": {
            "text/plain": [
              "0.18735000000000002"
            ]
          },
          "metadata": {
            "tags": []
          },
          "execution_count": 22
        }
      ]
    },
    {
      "cell_type": "code",
      "metadata": {
        "id": "-x81QqPkVZjK"
      },
      "source": [
        ""
      ],
      "execution_count": null,
      "outputs": []
    },
    {
      "cell_type": "code",
      "metadata": {
        "id": "i9qZrRIhTx3F",
        "colab": {
          "base_uri": "https://localhost:8080/"
        },
        "outputId": "5e77490a-39ab-497a-fb88-e5e6baface9d"
      },
      "source": [
        "print(check2)"
      ],
      "execution_count": null,
      "outputs": [
        {
          "output_type": "stream",
          "text": [
            "   0  1  2  3  4\n",
            "0  1  2  3  4  5\n"
          ],
          "name": "stdout"
        }
      ]
    },
    {
      "cell_type": "markdown",
      "metadata": {
        "id": "M9aoH-OmTsPp"
      },
      "source": [
        ""
      ]
    },
    {
      "cell_type": "code",
      "metadata": {
        "id": "docydvZ7TNMz",
        "colab": {
          "base_uri": "https://localhost:8080/"
        },
        "outputId": "ee1c1882-880f-47aa-f5ca-0b4b760824ea"
      },
      "source": [
        "pd.date_range('2020-01-01', periods=48, freq='H')"
      ],
      "execution_count": null,
      "outputs": [
        {
          "output_type": "execute_result",
          "data": {
            "text/plain": [
              "DatetimeIndex(['2020-01-01 00:00:00', '2020-01-01 01:00:00',\n",
              "               '2020-01-01 02:00:00', '2020-01-01 03:00:00',\n",
              "               '2020-01-01 04:00:00', '2020-01-01 05:00:00',\n",
              "               '2020-01-01 06:00:00', '2020-01-01 07:00:00',\n",
              "               '2020-01-01 08:00:00', '2020-01-01 09:00:00',\n",
              "               '2020-01-01 10:00:00', '2020-01-01 11:00:00',\n",
              "               '2020-01-01 12:00:00', '2020-01-01 13:00:00',\n",
              "               '2020-01-01 14:00:00', '2020-01-01 15:00:00',\n",
              "               '2020-01-01 16:00:00', '2020-01-01 17:00:00',\n",
              "               '2020-01-01 18:00:00', '2020-01-01 19:00:00',\n",
              "               '2020-01-01 20:00:00', '2020-01-01 21:00:00',\n",
              "               '2020-01-01 22:00:00', '2020-01-01 23:00:00',\n",
              "               '2020-01-02 00:00:00', '2020-01-02 01:00:00',\n",
              "               '2020-01-02 02:00:00', '2020-01-02 03:00:00',\n",
              "               '2020-01-02 04:00:00', '2020-01-02 05:00:00',\n",
              "               '2020-01-02 06:00:00', '2020-01-02 07:00:00',\n",
              "               '2020-01-02 08:00:00', '2020-01-02 09:00:00',\n",
              "               '2020-01-02 10:00:00', '2020-01-02 11:00:00',\n",
              "               '2020-01-02 12:00:00', '2020-01-02 13:00:00',\n",
              "               '2020-01-02 14:00:00', '2020-01-02 15:00:00',\n",
              "               '2020-01-02 16:00:00', '2020-01-02 17:00:00',\n",
              "               '2020-01-02 18:00:00', '2020-01-02 19:00:00',\n",
              "               '2020-01-02 20:00:00', '2020-01-02 21:00:00',\n",
              "               '2020-01-02 22:00:00', '2020-01-02 23:00:00'],\n",
              "              dtype='datetime64[ns]', freq='H')"
            ]
          },
          "metadata": {
            "tags": []
          },
          "execution_count": 12
        }
      ]
    },
    {
      "cell_type": "code",
      "metadata": {
        "id": "rI6nskQaTgrL",
        "colab": {
          "base_uri": "https://localhost:8080/"
        },
        "outputId": "ded38d3b-2247-4fde-ae7c-682e57dad064"
      },
      "source": [
        "pd.date_range('05/01/2020', periods=3, freq='3M')"
      ],
      "execution_count": null,
      "outputs": [
        {
          "output_type": "execute_result",
          "data": {
            "text/plain": [
              "DatetimeIndex(['2020-05-31', '2020-08-31', '2020-11-30'], dtype='datetime64[ns]', freq='3M')"
            ]
          },
          "metadata": {
            "tags": []
          },
          "execution_count": 15
        }
      ]
    },
    {
      "cell_type": "code",
      "metadata": {
        "id": "72RVhyZ9TV8f",
        "colab": {
          "base_uri": "https://localhost:8080/"
        },
        "outputId": "7705c294-12e1-4bc3-a13a-2fac0778b103"
      },
      "source": [
        "pd.date_range('2020-01-01', periods=49, freq='H')"
      ],
      "execution_count": null,
      "outputs": [
        {
          "output_type": "execute_result",
          "data": {
            "text/plain": [
              "DatetimeIndex(['2020-01-01 00:00:00', '2020-01-01 01:00:00',\n",
              "               '2020-01-01 02:00:00', '2020-01-01 03:00:00',\n",
              "               '2020-01-01 04:00:00', '2020-01-01 05:00:00',\n",
              "               '2020-01-01 06:00:00', '2020-01-01 07:00:00',\n",
              "               '2020-01-01 08:00:00', '2020-01-01 09:00:00',\n",
              "               '2020-01-01 10:00:00', '2020-01-01 11:00:00',\n",
              "               '2020-01-01 12:00:00', '2020-01-01 13:00:00',\n",
              "               '2020-01-01 14:00:00', '2020-01-01 15:00:00',\n",
              "               '2020-01-01 16:00:00', '2020-01-01 17:00:00',\n",
              "               '2020-01-01 18:00:00', '2020-01-01 19:00:00',\n",
              "               '2020-01-01 20:00:00', '2020-01-01 21:00:00',\n",
              "               '2020-01-01 22:00:00', '2020-01-01 23:00:00',\n",
              "               '2020-01-02 00:00:00', '2020-01-02 01:00:00',\n",
              "               '2020-01-02 02:00:00', '2020-01-02 03:00:00',\n",
              "               '2020-01-02 04:00:00', '2020-01-02 05:00:00',\n",
              "               '2020-01-02 06:00:00', '2020-01-02 07:00:00',\n",
              "               '2020-01-02 08:00:00', '2020-01-02 09:00:00',\n",
              "               '2020-01-02 10:00:00', '2020-01-02 11:00:00',\n",
              "               '2020-01-02 12:00:00', '2020-01-02 13:00:00',\n",
              "               '2020-01-02 14:00:00', '2020-01-02 15:00:00',\n",
              "               '2020-01-02 16:00:00', '2020-01-02 17:00:00',\n",
              "               '2020-01-02 18:00:00', '2020-01-02 19:00:00',\n",
              "               '2020-01-02 20:00:00', '2020-01-02 21:00:00',\n",
              "               '2020-01-02 22:00:00', '2020-01-02 23:00:00',\n",
              "               '2020-01-03 00:00:00'],\n",
              "              dtype='datetime64[ns]', freq='H')"
            ]
          },
          "metadata": {
            "tags": []
          },
          "execution_count": 14
        }
      ]
    },
    {
      "cell_type": "code",
      "metadata": {
        "id": "F_H9sdG8okUK",
        "colab": {
          "base_uri": "https://localhost:8080/",
          "height": 298
        },
        "outputId": "6f89487a-a31e-4969-c310-0996faec5941"
      },
      "source": [
        "fileName = r'/content/drive/My Drive/Election Dataset/cc-est2019-alldata.csv'\n",
        "\n",
        "election_data = pd.read_csv(fileName, engine='python') #opens the file in read mode\n",
        " #puts the file into an array\n",
        "        #words['a'] = words['a'].str.join(\" \") \n",
        "        #print(words)\n",
        "\n",
        "#import pandas as pd\n",
        "#import chardet\n",
        "#with open(fileName, 'rb') as f:\n",
        "#    result = chardet.detect(f.read())  # or readline if the file is large\n",
        "\n",
        "\n",
        "#pd.read_csv(fileName, encoding=result['encoding'])\n",
        "\n",
        "\n",
        "election_data.head()\n",
        "\n",
        "\n",
        "\n",
        "\n"
      ],
      "execution_count": null,
      "outputs": [
        {
          "output_type": "execute_result",
          "data": {
            "text/html": [
              "<div>\n",
              "<style scoped>\n",
              "    .dataframe tbody tr th:only-of-type {\n",
              "        vertical-align: middle;\n",
              "    }\n",
              "\n",
              "    .dataframe tbody tr th {\n",
              "        vertical-align: top;\n",
              "    }\n",
              "\n",
              "    .dataframe thead th {\n",
              "        text-align: right;\n",
              "    }\n",
              "</style>\n",
              "<table border=\"1\" class=\"dataframe\">\n",
              "  <thead>\n",
              "    <tr style=\"text-align: right;\">\n",
              "      <th></th>\n",
              "      <th>SUMLEV</th>\n",
              "      <th>STATE</th>\n",
              "      <th>COUNTY</th>\n",
              "      <th>STNAME</th>\n",
              "      <th>CTYNAME</th>\n",
              "      <th>YEAR</th>\n",
              "      <th>AGEGRP</th>\n",
              "      <th>TOT_POP</th>\n",
              "      <th>TOT_MALE</th>\n",
              "      <th>TOT_FEMALE</th>\n",
              "      <th>WA_MALE</th>\n",
              "      <th>WA_FEMALE</th>\n",
              "      <th>BA_MALE</th>\n",
              "      <th>BA_FEMALE</th>\n",
              "      <th>IA_MALE</th>\n",
              "      <th>IA_FEMALE</th>\n",
              "      <th>AA_MALE</th>\n",
              "      <th>AA_FEMALE</th>\n",
              "      <th>NA_MALE</th>\n",
              "      <th>NA_FEMALE</th>\n",
              "      <th>TOM_MALE</th>\n",
              "      <th>TOM_FEMALE</th>\n",
              "      <th>WAC_MALE</th>\n",
              "      <th>WAC_FEMALE</th>\n",
              "      <th>BAC_MALE</th>\n",
              "      <th>BAC_FEMALE</th>\n",
              "      <th>IAC_MALE</th>\n",
              "      <th>IAC_FEMALE</th>\n",
              "      <th>AAC_MALE</th>\n",
              "      <th>AAC_FEMALE</th>\n",
              "      <th>NAC_MALE</th>\n",
              "      <th>NAC_FEMALE</th>\n",
              "      <th>NH_MALE</th>\n",
              "      <th>NH_FEMALE</th>\n",
              "      <th>NHWA_MALE</th>\n",
              "      <th>NHWA_FEMALE</th>\n",
              "      <th>NHBA_MALE</th>\n",
              "      <th>NHBA_FEMALE</th>\n",
              "      <th>NHIA_MALE</th>\n",
              "      <th>NHIA_FEMALE</th>\n",
              "      <th>NHAA_MALE</th>\n",
              "      <th>NHAA_FEMALE</th>\n",
              "      <th>NHNA_MALE</th>\n",
              "      <th>NHNA_FEMALE</th>\n",
              "      <th>NHTOM_MALE</th>\n",
              "      <th>NHTOM_FEMALE</th>\n",
              "      <th>NHWAC_MALE</th>\n",
              "      <th>NHWAC_FEMALE</th>\n",
              "      <th>NHBAC_MALE</th>\n",
              "      <th>NHBAC_FEMALE</th>\n",
              "      <th>NHIAC_MALE</th>\n",
              "      <th>NHIAC_FEMALE</th>\n",
              "      <th>NHAAC_MALE</th>\n",
              "      <th>NHAAC_FEMALE</th>\n",
              "      <th>NHNAC_MALE</th>\n",
              "      <th>NHNAC_FEMALE</th>\n",
              "      <th>H_MALE</th>\n",
              "      <th>H_FEMALE</th>\n",
              "      <th>HWA_MALE</th>\n",
              "      <th>HWA_FEMALE</th>\n",
              "      <th>HBA_MALE</th>\n",
              "      <th>HBA_FEMALE</th>\n",
              "      <th>HIA_MALE</th>\n",
              "      <th>HIA_FEMALE</th>\n",
              "      <th>HAA_MALE</th>\n",
              "      <th>HAA_FEMALE</th>\n",
              "      <th>HNA_MALE</th>\n",
              "      <th>HNA_FEMALE</th>\n",
              "      <th>HTOM_MALE</th>\n",
              "      <th>HTOM_FEMALE</th>\n",
              "      <th>HWAC_MALE</th>\n",
              "      <th>HWAC_FEMALE</th>\n",
              "      <th>HBAC_MALE</th>\n",
              "      <th>HBAC_FEMALE</th>\n",
              "      <th>HIAC_MALE</th>\n",
              "      <th>HIAC_FEMALE</th>\n",
              "      <th>HAAC_MALE</th>\n",
              "      <th>HAAC_FEMALE</th>\n",
              "      <th>HNAC_MALE</th>\n",
              "      <th>HNAC_FEMALE</th>\n",
              "    </tr>\n",
              "  </thead>\n",
              "  <tbody>\n",
              "    <tr>\n",
              "      <th>0</th>\n",
              "      <td>50</td>\n",
              "      <td>1</td>\n",
              "      <td>1</td>\n",
              "      <td>Alabama</td>\n",
              "      <td>Autauga County</td>\n",
              "      <td>1</td>\n",
              "      <td>0</td>\n",
              "      <td>54571</td>\n",
              "      <td>26569</td>\n",
              "      <td>28002</td>\n",
              "      <td>21295</td>\n",
              "      <td>22002</td>\n",
              "      <td>4559</td>\n",
              "      <td>5130</td>\n",
              "      <td>119</td>\n",
              "      <td>139</td>\n",
              "      <td>200</td>\n",
              "      <td>284</td>\n",
              "      <td>29</td>\n",
              "      <td>18</td>\n",
              "      <td>367</td>\n",
              "      <td>429</td>\n",
              "      <td>21633</td>\n",
              "      <td>22391</td>\n",
              "      <td>4704</td>\n",
              "      <td>5306</td>\n",
              "      <td>277</td>\n",
              "      <td>314</td>\n",
              "      <td>300</td>\n",
              "      <td>409</td>\n",
              "      <td>42</td>\n",
              "      <td>37</td>\n",
              "      <td>25875</td>\n",
              "      <td>27386</td>\n",
              "      <td>20709</td>\n",
              "      <td>21485</td>\n",
              "      <td>4512</td>\n",
              "      <td>5091</td>\n",
              "      <td>103</td>\n",
              "      <td>115</td>\n",
              "      <td>194</td>\n",
              "      <td>280</td>\n",
              "      <td>13</td>\n",
              "      <td>9</td>\n",
              "      <td>344</td>\n",
              "      <td>406</td>\n",
              "      <td>21026</td>\n",
              "      <td>21853</td>\n",
              "      <td>4647</td>\n",
              "      <td>5258</td>\n",
              "      <td>251</td>\n",
              "      <td>282</td>\n",
              "      <td>291</td>\n",
              "      <td>398</td>\n",
              "      <td>23</td>\n",
              "      <td>27</td>\n",
              "      <td>694</td>\n",
              "      <td>616</td>\n",
              "      <td>586</td>\n",
              "      <td>517</td>\n",
              "      <td>47</td>\n",
              "      <td>39</td>\n",
              "      <td>16</td>\n",
              "      <td>24</td>\n",
              "      <td>6</td>\n",
              "      <td>4</td>\n",
              "      <td>16</td>\n",
              "      <td>9</td>\n",
              "      <td>23</td>\n",
              "      <td>23</td>\n",
              "      <td>607</td>\n",
              "      <td>538</td>\n",
              "      <td>57</td>\n",
              "      <td>48</td>\n",
              "      <td>26</td>\n",
              "      <td>32</td>\n",
              "      <td>9</td>\n",
              "      <td>11</td>\n",
              "      <td>19</td>\n",
              "      <td>10</td>\n",
              "    </tr>\n",
              "    <tr>\n",
              "      <th>1</th>\n",
              "      <td>50</td>\n",
              "      <td>1</td>\n",
              "      <td>1</td>\n",
              "      <td>Alabama</td>\n",
              "      <td>Autauga County</td>\n",
              "      <td>1</td>\n",
              "      <td>1</td>\n",
              "      <td>3579</td>\n",
              "      <td>1866</td>\n",
              "      <td>1713</td>\n",
              "      <td>1411</td>\n",
              "      <td>1316</td>\n",
              "      <td>362</td>\n",
              "      <td>317</td>\n",
              "      <td>5</td>\n",
              "      <td>3</td>\n",
              "      <td>13</td>\n",
              "      <td>15</td>\n",
              "      <td>1</td>\n",
              "      <td>0</td>\n",
              "      <td>74</td>\n",
              "      <td>62</td>\n",
              "      <td>1479</td>\n",
              "      <td>1368</td>\n",
              "      <td>405</td>\n",
              "      <td>362</td>\n",
              "      <td>23</td>\n",
              "      <td>18</td>\n",
              "      <td>34</td>\n",
              "      <td>28</td>\n",
              "      <td>3</td>\n",
              "      <td>1</td>\n",
              "      <td>1778</td>\n",
              "      <td>1651</td>\n",
              "      <td>1337</td>\n",
              "      <td>1260</td>\n",
              "      <td>356</td>\n",
              "      <td>313</td>\n",
              "      <td>2</td>\n",
              "      <td>2</td>\n",
              "      <td>13</td>\n",
              "      <td>15</td>\n",
              "      <td>0</td>\n",
              "      <td>0</td>\n",
              "      <td>70</td>\n",
              "      <td>61</td>\n",
              "      <td>1402</td>\n",
              "      <td>1312</td>\n",
              "      <td>396</td>\n",
              "      <td>357</td>\n",
              "      <td>19</td>\n",
              "      <td>17</td>\n",
              "      <td>34</td>\n",
              "      <td>28</td>\n",
              "      <td>1</td>\n",
              "      <td>0</td>\n",
              "      <td>88</td>\n",
              "      <td>62</td>\n",
              "      <td>74</td>\n",
              "      <td>56</td>\n",
              "      <td>6</td>\n",
              "      <td>4</td>\n",
              "      <td>3</td>\n",
              "      <td>1</td>\n",
              "      <td>0</td>\n",
              "      <td>0</td>\n",
              "      <td>1</td>\n",
              "      <td>0</td>\n",
              "      <td>4</td>\n",
              "      <td>1</td>\n",
              "      <td>77</td>\n",
              "      <td>56</td>\n",
              "      <td>9</td>\n",
              "      <td>5</td>\n",
              "      <td>4</td>\n",
              "      <td>1</td>\n",
              "      <td>0</td>\n",
              "      <td>0</td>\n",
              "      <td>2</td>\n",
              "      <td>1</td>\n",
              "    </tr>\n",
              "    <tr>\n",
              "      <th>2</th>\n",
              "      <td>50</td>\n",
              "      <td>1</td>\n",
              "      <td>1</td>\n",
              "      <td>Alabama</td>\n",
              "      <td>Autauga County</td>\n",
              "      <td>1</td>\n",
              "      <td>2</td>\n",
              "      <td>3991</td>\n",
              "      <td>2001</td>\n",
              "      <td>1990</td>\n",
              "      <td>1521</td>\n",
              "      <td>1526</td>\n",
              "      <td>399</td>\n",
              "      <td>374</td>\n",
              "      <td>14</td>\n",
              "      <td>8</td>\n",
              "      <td>17</td>\n",
              "      <td>21</td>\n",
              "      <td>1</td>\n",
              "      <td>3</td>\n",
              "      <td>49</td>\n",
              "      <td>58</td>\n",
              "      <td>1570</td>\n",
              "      <td>1583</td>\n",
              "      <td>425</td>\n",
              "      <td>403</td>\n",
              "      <td>27</td>\n",
              "      <td>19</td>\n",
              "      <td>32</td>\n",
              "      <td>42</td>\n",
              "      <td>3</td>\n",
              "      <td>4</td>\n",
              "      <td>1933</td>\n",
              "      <td>1916</td>\n",
              "      <td>1460</td>\n",
              "      <td>1465</td>\n",
              "      <td>398</td>\n",
              "      <td>372</td>\n",
              "      <td>12</td>\n",
              "      <td>2</td>\n",
              "      <td>17</td>\n",
              "      <td>21</td>\n",
              "      <td>0</td>\n",
              "      <td>3</td>\n",
              "      <td>46</td>\n",
              "      <td>53</td>\n",
              "      <td>1506</td>\n",
              "      <td>1517</td>\n",
              "      <td>423</td>\n",
              "      <td>400</td>\n",
              "      <td>25</td>\n",
              "      <td>12</td>\n",
              "      <td>30</td>\n",
              "      <td>39</td>\n",
              "      <td>1</td>\n",
              "      <td>4</td>\n",
              "      <td>68</td>\n",
              "      <td>74</td>\n",
              "      <td>61</td>\n",
              "      <td>61</td>\n",
              "      <td>1</td>\n",
              "      <td>2</td>\n",
              "      <td>2</td>\n",
              "      <td>6</td>\n",
              "      <td>0</td>\n",
              "      <td>0</td>\n",
              "      <td>1</td>\n",
              "      <td>0</td>\n",
              "      <td>3</td>\n",
              "      <td>5</td>\n",
              "      <td>64</td>\n",
              "      <td>66</td>\n",
              "      <td>2</td>\n",
              "      <td>3</td>\n",
              "      <td>2</td>\n",
              "      <td>7</td>\n",
              "      <td>2</td>\n",
              "      <td>3</td>\n",
              "      <td>2</td>\n",
              "      <td>0</td>\n",
              "    </tr>\n",
              "    <tr>\n",
              "      <th>3</th>\n",
              "      <td>50</td>\n",
              "      <td>1</td>\n",
              "      <td>1</td>\n",
              "      <td>Alabama</td>\n",
              "      <td>Autauga County</td>\n",
              "      <td>1</td>\n",
              "      <td>3</td>\n",
              "      <td>4290</td>\n",
              "      <td>2171</td>\n",
              "      <td>2119</td>\n",
              "      <td>1658</td>\n",
              "      <td>1620</td>\n",
              "      <td>431</td>\n",
              "      <td>406</td>\n",
              "      <td>15</td>\n",
              "      <td>12</td>\n",
              "      <td>23</td>\n",
              "      <td>18</td>\n",
              "      <td>4</td>\n",
              "      <td>1</td>\n",
              "      <td>40</td>\n",
              "      <td>62</td>\n",
              "      <td>1694</td>\n",
              "      <td>1681</td>\n",
              "      <td>453</td>\n",
              "      <td>436</td>\n",
              "      <td>29</td>\n",
              "      <td>27</td>\n",
              "      <td>32</td>\n",
              "      <td>37</td>\n",
              "      <td>4</td>\n",
              "      <td>5</td>\n",
              "      <td>2105</td>\n",
              "      <td>2055</td>\n",
              "      <td>1613</td>\n",
              "      <td>1570</td>\n",
              "      <td>421</td>\n",
              "      <td>403</td>\n",
              "      <td>12</td>\n",
              "      <td>9</td>\n",
              "      <td>22</td>\n",
              "      <td>18</td>\n",
              "      <td>3</td>\n",
              "      <td>0</td>\n",
              "      <td>34</td>\n",
              "      <td>55</td>\n",
              "      <td>1643</td>\n",
              "      <td>1624</td>\n",
              "      <td>440</td>\n",
              "      <td>429</td>\n",
              "      <td>24</td>\n",
              "      <td>22</td>\n",
              "      <td>30</td>\n",
              "      <td>36</td>\n",
              "      <td>3</td>\n",
              "      <td>4</td>\n",
              "      <td>66</td>\n",
              "      <td>64</td>\n",
              "      <td>45</td>\n",
              "      <td>50</td>\n",
              "      <td>10</td>\n",
              "      <td>3</td>\n",
              "      <td>3</td>\n",
              "      <td>3</td>\n",
              "      <td>1</td>\n",
              "      <td>0</td>\n",
              "      <td>1</td>\n",
              "      <td>1</td>\n",
              "      <td>6</td>\n",
              "      <td>7</td>\n",
              "      <td>51</td>\n",
              "      <td>57</td>\n",
              "      <td>13</td>\n",
              "      <td>7</td>\n",
              "      <td>5</td>\n",
              "      <td>5</td>\n",
              "      <td>2</td>\n",
              "      <td>1</td>\n",
              "      <td>1</td>\n",
              "      <td>1</td>\n",
              "    </tr>\n",
              "    <tr>\n",
              "      <th>4</th>\n",
              "      <td>50</td>\n",
              "      <td>1</td>\n",
              "      <td>1</td>\n",
              "      <td>Alabama</td>\n",
              "      <td>Autauga County</td>\n",
              "      <td>1</td>\n",
              "      <td>4</td>\n",
              "      <td>4290</td>\n",
              "      <td>2213</td>\n",
              "      <td>2077</td>\n",
              "      <td>1628</td>\n",
              "      <td>1585</td>\n",
              "      <td>502</td>\n",
              "      <td>424</td>\n",
              "      <td>12</td>\n",
              "      <td>7</td>\n",
              "      <td>25</td>\n",
              "      <td>14</td>\n",
              "      <td>4</td>\n",
              "      <td>2</td>\n",
              "      <td>42</td>\n",
              "      <td>45</td>\n",
              "      <td>1664</td>\n",
              "      <td>1624</td>\n",
              "      <td>525</td>\n",
              "      <td>444</td>\n",
              "      <td>23</td>\n",
              "      <td>20</td>\n",
              "      <td>39</td>\n",
              "      <td>31</td>\n",
              "      <td>6</td>\n",
              "      <td>5</td>\n",
              "      <td>2153</td>\n",
              "      <td>2026</td>\n",
              "      <td>1580</td>\n",
              "      <td>1543</td>\n",
              "      <td>495</td>\n",
              "      <td>420</td>\n",
              "      <td>12</td>\n",
              "      <td>5</td>\n",
              "      <td>23</td>\n",
              "      <td>14</td>\n",
              "      <td>1</td>\n",
              "      <td>1</td>\n",
              "      <td>42</td>\n",
              "      <td>43</td>\n",
              "      <td>1616</td>\n",
              "      <td>1580</td>\n",
              "      <td>518</td>\n",
              "      <td>439</td>\n",
              "      <td>23</td>\n",
              "      <td>18</td>\n",
              "      <td>37</td>\n",
              "      <td>30</td>\n",
              "      <td>3</td>\n",
              "      <td>4</td>\n",
              "      <td>60</td>\n",
              "      <td>51</td>\n",
              "      <td>48</td>\n",
              "      <td>42</td>\n",
              "      <td>7</td>\n",
              "      <td>4</td>\n",
              "      <td>0</td>\n",
              "      <td>2</td>\n",
              "      <td>2</td>\n",
              "      <td>0</td>\n",
              "      <td>3</td>\n",
              "      <td>1</td>\n",
              "      <td>0</td>\n",
              "      <td>2</td>\n",
              "      <td>48</td>\n",
              "      <td>44</td>\n",
              "      <td>7</td>\n",
              "      <td>5</td>\n",
              "      <td>0</td>\n",
              "      <td>2</td>\n",
              "      <td>2</td>\n",
              "      <td>1</td>\n",
              "      <td>3</td>\n",
              "      <td>1</td>\n",
              "    </tr>\n",
              "  </tbody>\n",
              "</table>\n",
              "</div>"
            ],
            "text/plain": [
              "   SUMLEV  STATE  COUNTY  ... HAAC_FEMALE HNAC_MALE  HNAC_FEMALE\n",
              "0      50      1       1  ...          11        19           10\n",
              "1      50      1       1  ...           0         2            1\n",
              "2      50      1       1  ...           3         2            0\n",
              "3      50      1       1  ...           1         1            1\n",
              "4      50      1       1  ...           1         3            1\n",
              "\n",
              "[5 rows x 80 columns]"
            ]
          },
          "metadata": {
            "tags": []
          },
          "execution_count": 2
        }
      ]
    },
    {
      "cell_type": "code",
      "metadata": {
        "colab": {
          "base_uri": "https://localhost:8080/"
        },
        "id": "opA4MhTK4Rhh",
        "outputId": "298ea7c5-59fb-44e9-b8e0-7fa58aac58b0"
      },
      "source": [
        "\n",
        "\n",
        "\n",
        "election_data['STATE'].value_counts()"
      ],
      "execution_count": null,
      "outputs": [
        {
          "output_type": "execute_result",
          "data": {
            "text/plain": [
              "48    57912\n",
              "13    36252\n",
              "51    30324\n",
              "21    27360\n",
              "29    26220\n",
              "20    23940\n",
              "17    23256\n",
              "37    22800\n",
              "19    22572\n",
              "47    21660\n",
              "31    21204\n",
              "18    20976\n",
              "39    20064\n",
              "27    19836\n",
              "26    18924\n",
              "28    18696\n",
              "40    17556\n",
              "5     17100\n",
              "55    16416\n",
              "12    15276\n",
              "1     15276\n",
              "42    15276\n",
              "46    15048\n",
              "8     14592\n",
              "22    14592\n",
              "36    14136\n",
              "6     13224\n",
              "30    12768\n",
              "54    12540\n",
              "38    12084\n",
              "45    10488\n",
              "16    10032\n",
              "53     8892\n",
              "41     8208\n",
              "35     7524\n",
              "2      6612\n",
              "49     6612\n",
              "24     5472\n",
              "56     5244\n",
              "34     4788\n",
              "32     3876\n",
              "23     3648\n",
              "4      3420\n",
              "50     3192\n",
              "25     3192\n",
              "33     2280\n",
              "9      1824\n",
              "15     1140\n",
              "44     1140\n",
              "10      684\n",
              "11      228\n",
              "Name: STATE, dtype: int64"
            ]
          },
          "metadata": {
            "tags": []
          },
          "execution_count": 21
        }
      ]
    },
    {
      "cell_type": "code",
      "metadata": {
        "id": "Uxdtis8yrMif"
      },
      "source": [
        "election_data1 = election_data[['YEAR','STNAME','CTYNAME','AGEGRP','TOT_POP','TOT_MALE','TOT_FEMALE','WA_MALE','WA_FEMALE','BA_MALE','BA_FEMALE','IA_MALE','IA_FEMALE','AA_MALE','AA_FEMALE','NA_MALE','NA_FEMALE', 'H_FEMALE', 'H_MALE']]"
      ],
      "execution_count": null,
      "outputs": []
    },
    {
      "cell_type": "code",
      "metadata": {
        "colab": {
          "base_uri": "https://localhost:8080/",
          "height": 298
        },
        "id": "1IUoVH272kE-",
        "outputId": "490a34bb-5baa-4d0c-e9cc-65bf403408f1"
      },
      "source": [
        "#election_data1.head()\n",
        "\n",
        "election_data = election_data.loc[election_data['AGEGRP'] == 0]\n",
        "election_data = election_data.loc[election_data['YEAR'] == 12]\n",
        "\n",
        "election_data.head()"
      ],
      "execution_count": null,
      "outputs": [
        {
          "output_type": "execute_result",
          "data": {
            "text/html": [
              "<div>\n",
              "<style scoped>\n",
              "    .dataframe tbody tr th:only-of-type {\n",
              "        vertical-align: middle;\n",
              "    }\n",
              "\n",
              "    .dataframe tbody tr th {\n",
              "        vertical-align: top;\n",
              "    }\n",
              "\n",
              "    .dataframe thead th {\n",
              "        text-align: right;\n",
              "    }\n",
              "</style>\n",
              "<table border=\"1\" class=\"dataframe\">\n",
              "  <thead>\n",
              "    <tr style=\"text-align: right;\">\n",
              "      <th></th>\n",
              "      <th>SUMLEV</th>\n",
              "      <th>STATE</th>\n",
              "      <th>COUNTY</th>\n",
              "      <th>STNAME</th>\n",
              "      <th>CTYNAME</th>\n",
              "      <th>YEAR</th>\n",
              "      <th>AGEGRP</th>\n",
              "      <th>TOT_POP</th>\n",
              "      <th>TOT_MALE</th>\n",
              "      <th>TOT_FEMALE</th>\n",
              "      <th>WA_MALE</th>\n",
              "      <th>WA_FEMALE</th>\n",
              "      <th>BA_MALE</th>\n",
              "      <th>BA_FEMALE</th>\n",
              "      <th>IA_MALE</th>\n",
              "      <th>IA_FEMALE</th>\n",
              "      <th>AA_MALE</th>\n",
              "      <th>AA_FEMALE</th>\n",
              "      <th>NA_MALE</th>\n",
              "      <th>NA_FEMALE</th>\n",
              "      <th>TOM_MALE</th>\n",
              "      <th>TOM_FEMALE</th>\n",
              "      <th>WAC_MALE</th>\n",
              "      <th>WAC_FEMALE</th>\n",
              "      <th>BAC_MALE</th>\n",
              "      <th>BAC_FEMALE</th>\n",
              "      <th>IAC_MALE</th>\n",
              "      <th>IAC_FEMALE</th>\n",
              "      <th>AAC_MALE</th>\n",
              "      <th>AAC_FEMALE</th>\n",
              "      <th>NAC_MALE</th>\n",
              "      <th>NAC_FEMALE</th>\n",
              "      <th>NH_MALE</th>\n",
              "      <th>NH_FEMALE</th>\n",
              "      <th>NHWA_MALE</th>\n",
              "      <th>NHWA_FEMALE</th>\n",
              "      <th>NHBA_MALE</th>\n",
              "      <th>NHBA_FEMALE</th>\n",
              "      <th>NHIA_MALE</th>\n",
              "      <th>NHIA_FEMALE</th>\n",
              "      <th>NHAA_MALE</th>\n",
              "      <th>NHAA_FEMALE</th>\n",
              "      <th>NHNA_MALE</th>\n",
              "      <th>NHNA_FEMALE</th>\n",
              "      <th>NHTOM_MALE</th>\n",
              "      <th>NHTOM_FEMALE</th>\n",
              "      <th>NHWAC_MALE</th>\n",
              "      <th>NHWAC_FEMALE</th>\n",
              "      <th>NHBAC_MALE</th>\n",
              "      <th>NHBAC_FEMALE</th>\n",
              "      <th>NHIAC_MALE</th>\n",
              "      <th>NHIAC_FEMALE</th>\n",
              "      <th>NHAAC_MALE</th>\n",
              "      <th>NHAAC_FEMALE</th>\n",
              "      <th>NHNAC_MALE</th>\n",
              "      <th>NHNAC_FEMALE</th>\n",
              "      <th>H_MALE</th>\n",
              "      <th>H_FEMALE</th>\n",
              "      <th>HWA_MALE</th>\n",
              "      <th>HWA_FEMALE</th>\n",
              "      <th>HBA_MALE</th>\n",
              "      <th>HBA_FEMALE</th>\n",
              "      <th>HIA_MALE</th>\n",
              "      <th>HIA_FEMALE</th>\n",
              "      <th>HAA_MALE</th>\n",
              "      <th>HAA_FEMALE</th>\n",
              "      <th>HNA_MALE</th>\n",
              "      <th>HNA_FEMALE</th>\n",
              "      <th>HTOM_MALE</th>\n",
              "      <th>HTOM_FEMALE</th>\n",
              "      <th>HWAC_MALE</th>\n",
              "      <th>HWAC_FEMALE</th>\n",
              "      <th>HBAC_MALE</th>\n",
              "      <th>HBAC_FEMALE</th>\n",
              "      <th>HIAC_MALE</th>\n",
              "      <th>HIAC_FEMALE</th>\n",
              "      <th>HAAC_MALE</th>\n",
              "      <th>HAAC_FEMALE</th>\n",
              "      <th>HNAC_MALE</th>\n",
              "      <th>HNAC_FEMALE</th>\n",
              "    </tr>\n",
              "  </thead>\n",
              "  <tbody>\n",
              "    <tr>\n",
              "      <th>209</th>\n",
              "      <td>50</td>\n",
              "      <td>1</td>\n",
              "      <td>1</td>\n",
              "      <td>Alabama</td>\n",
              "      <td>Autauga County</td>\n",
              "      <td>12</td>\n",
              "      <td>0</td>\n",
              "      <td>55869</td>\n",
              "      <td>27092</td>\n",
              "      <td>28777</td>\n",
              "      <td>20878</td>\n",
              "      <td>21729</td>\n",
              "      <td>5237</td>\n",
              "      <td>6000</td>\n",
              "      <td>121</td>\n",
              "      <td>145</td>\n",
              "      <td>286</td>\n",
              "      <td>370</td>\n",
              "      <td>32</td>\n",
              "      <td>26</td>\n",
              "      <td>538</td>\n",
              "      <td>507</td>\n",
              "      <td>21372</td>\n",
              "      <td>22191</td>\n",
              "      <td>5514</td>\n",
              "      <td>6270</td>\n",
              "      <td>274</td>\n",
              "      <td>301</td>\n",
              "      <td>441</td>\n",
              "      <td>509</td>\n",
              "      <td>55</td>\n",
              "      <td>49</td>\n",
              "      <td>26208</td>\n",
              "      <td>27990</td>\n",
              "      <td>20138</td>\n",
              "      <td>21077</td>\n",
              "      <td>5171</td>\n",
              "      <td>5927</td>\n",
              "      <td>105</td>\n",
              "      <td>138</td>\n",
              "      <td>282</td>\n",
              "      <td>364</td>\n",
              "      <td>20</td>\n",
              "      <td>20</td>\n",
              "      <td>492</td>\n",
              "      <td>464</td>\n",
              "      <td>20594</td>\n",
              "      <td>21504</td>\n",
              "      <td>5425</td>\n",
              "      <td>6177</td>\n",
              "      <td>234</td>\n",
              "      <td>274</td>\n",
              "      <td>426</td>\n",
              "      <td>490</td>\n",
              "      <td>39</td>\n",
              "      <td>38</td>\n",
              "      <td>884</td>\n",
              "      <td>787</td>\n",
              "      <td>740</td>\n",
              "      <td>652</td>\n",
              "      <td>66</td>\n",
              "      <td>73</td>\n",
              "      <td>16</td>\n",
              "      <td>7</td>\n",
              "      <td>4</td>\n",
              "      <td>6</td>\n",
              "      <td>12</td>\n",
              "      <td>6</td>\n",
              "      <td>46</td>\n",
              "      <td>43</td>\n",
              "      <td>778</td>\n",
              "      <td>687</td>\n",
              "      <td>89</td>\n",
              "      <td>93</td>\n",
              "      <td>40</td>\n",
              "      <td>27</td>\n",
              "      <td>15</td>\n",
              "      <td>19</td>\n",
              "      <td>16</td>\n",
              "      <td>11</td>\n",
              "    </tr>\n",
              "    <tr>\n",
              "      <th>437</th>\n",
              "      <td>50</td>\n",
              "      <td>1</td>\n",
              "      <td>3</td>\n",
              "      <td>Alabama</td>\n",
              "      <td>Baldwin County</td>\n",
              "      <td>12</td>\n",
              "      <td>0</td>\n",
              "      <td>223234</td>\n",
              "      <td>108247</td>\n",
              "      <td>114987</td>\n",
              "      <td>94810</td>\n",
              "      <td>100388</td>\n",
              "      <td>9486</td>\n",
              "      <td>10107</td>\n",
              "      <td>903</td>\n",
              "      <td>839</td>\n",
              "      <td>932</td>\n",
              "      <td>1448</td>\n",
              "      <td>74</td>\n",
              "      <td>80</td>\n",
              "      <td>2042</td>\n",
              "      <td>2125</td>\n",
              "      <td>96730</td>\n",
              "      <td>102373</td>\n",
              "      <td>10346</td>\n",
              "      <td>11008</td>\n",
              "      <td>1818</td>\n",
              "      <td>1785</td>\n",
              "      <td>1405</td>\n",
              "      <td>1946</td>\n",
              "      <td>180</td>\n",
              "      <td>187</td>\n",
              "      <td>102702</td>\n",
              "      <td>109998</td>\n",
              "      <td>89845</td>\n",
              "      <td>95902</td>\n",
              "      <td>9308</td>\n",
              "      <td>9907</td>\n",
              "      <td>753</td>\n",
              "      <td>754</td>\n",
              "      <td>911</td>\n",
              "      <td>1435</td>\n",
              "      <td>53</td>\n",
              "      <td>70</td>\n",
              "      <td>1832</td>\n",
              "      <td>1930</td>\n",
              "      <td>91586</td>\n",
              "      <td>97727</td>\n",
              "      <td>10078</td>\n",
              "      <td>10727</td>\n",
              "      <td>1554</td>\n",
              "      <td>1588</td>\n",
              "      <td>1336</td>\n",
              "      <td>1881</td>\n",
              "      <td>125</td>\n",
              "      <td>152</td>\n",
              "      <td>5545</td>\n",
              "      <td>4989</td>\n",
              "      <td>4965</td>\n",
              "      <td>4486</td>\n",
              "      <td>178</td>\n",
              "      <td>200</td>\n",
              "      <td>150</td>\n",
              "      <td>85</td>\n",
              "      <td>21</td>\n",
              "      <td>13</td>\n",
              "      <td>21</td>\n",
              "      <td>10</td>\n",
              "      <td>210</td>\n",
              "      <td>195</td>\n",
              "      <td>5144</td>\n",
              "      <td>4646</td>\n",
              "      <td>268</td>\n",
              "      <td>281</td>\n",
              "      <td>264</td>\n",
              "      <td>197</td>\n",
              "      <td>69</td>\n",
              "      <td>65</td>\n",
              "      <td>55</td>\n",
              "      <td>35</td>\n",
              "    </tr>\n",
              "    <tr>\n",
              "      <th>665</th>\n",
              "      <td>50</td>\n",
              "      <td>1</td>\n",
              "      <td>5</td>\n",
              "      <td>Alabama</td>\n",
              "      <td>Barbour County</td>\n",
              "      <td>12</td>\n",
              "      <td>0</td>\n",
              "      <td>24686</td>\n",
              "      <td>13064</td>\n",
              "      <td>11622</td>\n",
              "      <td>6389</td>\n",
              "      <td>5745</td>\n",
              "      <td>6311</td>\n",
              "      <td>5595</td>\n",
              "      <td>103</td>\n",
              "      <td>67</td>\n",
              "      <td>55</td>\n",
              "      <td>61</td>\n",
              "      <td>34</td>\n",
              "      <td>18</td>\n",
              "      <td>172</td>\n",
              "      <td>136</td>\n",
              "      <td>6517</td>\n",
              "      <td>5863</td>\n",
              "      <td>6432</td>\n",
              "      <td>5685</td>\n",
              "      <td>182</td>\n",
              "      <td>115</td>\n",
              "      <td>72</td>\n",
              "      <td>80</td>\n",
              "      <td>38</td>\n",
              "      <td>23</td>\n",
              "      <td>12435</td>\n",
              "      <td>11134</td>\n",
              "      <td>5894</td>\n",
              "      <td>5341</td>\n",
              "      <td>6260</td>\n",
              "      <td>5547</td>\n",
              "      <td>52</td>\n",
              "      <td>43</td>\n",
              "      <td>55</td>\n",
              "      <td>61</td>\n",
              "      <td>21</td>\n",
              "      <td>10</td>\n",
              "      <td>153</td>\n",
              "      <td>132</td>\n",
              "      <td>6008</td>\n",
              "      <td>5455</td>\n",
              "      <td>6369</td>\n",
              "      <td>5635</td>\n",
              "      <td>121</td>\n",
              "      <td>89</td>\n",
              "      <td>71</td>\n",
              "      <td>80</td>\n",
              "      <td>24</td>\n",
              "      <td>15</td>\n",
              "      <td>629</td>\n",
              "      <td>488</td>\n",
              "      <td>495</td>\n",
              "      <td>404</td>\n",
              "      <td>51</td>\n",
              "      <td>48</td>\n",
              "      <td>51</td>\n",
              "      <td>24</td>\n",
              "      <td>0</td>\n",
              "      <td>0</td>\n",
              "      <td>13</td>\n",
              "      <td>8</td>\n",
              "      <td>19</td>\n",
              "      <td>4</td>\n",
              "      <td>509</td>\n",
              "      <td>408</td>\n",
              "      <td>63</td>\n",
              "      <td>50</td>\n",
              "      <td>61</td>\n",
              "      <td>26</td>\n",
              "      <td>1</td>\n",
              "      <td>0</td>\n",
              "      <td>14</td>\n",
              "      <td>8</td>\n",
              "    </tr>\n",
              "    <tr>\n",
              "      <th>893</th>\n",
              "      <td>50</td>\n",
              "      <td>1</td>\n",
              "      <td>7</td>\n",
              "      <td>Alabama</td>\n",
              "      <td>Bibb County</td>\n",
              "      <td>12</td>\n",
              "      <td>0</td>\n",
              "      <td>22394</td>\n",
              "      <td>11929</td>\n",
              "      <td>10465</td>\n",
              "      <td>8766</td>\n",
              "      <td>8425</td>\n",
              "      <td>2941</td>\n",
              "      <td>1822</td>\n",
              "      <td>53</td>\n",
              "      <td>50</td>\n",
              "      <td>23</td>\n",
              "      <td>25</td>\n",
              "      <td>22</td>\n",
              "      <td>4</td>\n",
              "      <td>124</td>\n",
              "      <td>139</td>\n",
              "      <td>8869</td>\n",
              "      <td>8551</td>\n",
              "      <td>3010</td>\n",
              "      <td>1897</td>\n",
              "      <td>106</td>\n",
              "      <td>101</td>\n",
              "      <td>49</td>\n",
              "      <td>48</td>\n",
              "      <td>28</td>\n",
              "      <td>12</td>\n",
              "      <td>11586</td>\n",
              "      <td>10185</td>\n",
              "      <td>8482</td>\n",
              "      <td>8181</td>\n",
              "      <td>2912</td>\n",
              "      <td>1807</td>\n",
              "      <td>50</td>\n",
              "      <td>41</td>\n",
              "      <td>21</td>\n",
              "      <td>25</td>\n",
              "      <td>5</td>\n",
              "      <td>1</td>\n",
              "      <td>116</td>\n",
              "      <td>130</td>\n",
              "      <td>8578</td>\n",
              "      <td>8298</td>\n",
              "      <td>2978</td>\n",
              "      <td>1878</td>\n",
              "      <td>100</td>\n",
              "      <td>86</td>\n",
              "      <td>44</td>\n",
              "      <td>47</td>\n",
              "      <td>11</td>\n",
              "      <td>9</td>\n",
              "      <td>343</td>\n",
              "      <td>280</td>\n",
              "      <td>284</td>\n",
              "      <td>244</td>\n",
              "      <td>29</td>\n",
              "      <td>15</td>\n",
              "      <td>3</td>\n",
              "      <td>9</td>\n",
              "      <td>2</td>\n",
              "      <td>0</td>\n",
              "      <td>17</td>\n",
              "      <td>3</td>\n",
              "      <td>8</td>\n",
              "      <td>9</td>\n",
              "      <td>291</td>\n",
              "      <td>253</td>\n",
              "      <td>32</td>\n",
              "      <td>19</td>\n",
              "      <td>6</td>\n",
              "      <td>15</td>\n",
              "      <td>5</td>\n",
              "      <td>1</td>\n",
              "      <td>17</td>\n",
              "      <td>3</td>\n",
              "    </tr>\n",
              "    <tr>\n",
              "      <th>1121</th>\n",
              "      <td>50</td>\n",
              "      <td>1</td>\n",
              "      <td>9</td>\n",
              "      <td>Alabama</td>\n",
              "      <td>Blount County</td>\n",
              "      <td>12</td>\n",
              "      <td>0</td>\n",
              "      <td>57826</td>\n",
              "      <td>28472</td>\n",
              "      <td>29354</td>\n",
              "      <td>27258</td>\n",
              "      <td>28154</td>\n",
              "      <td>516</td>\n",
              "      <td>462</td>\n",
              "      <td>192</td>\n",
              "      <td>178</td>\n",
              "      <td>85</td>\n",
              "      <td>100</td>\n",
              "      <td>42</td>\n",
              "      <td>25</td>\n",
              "      <td>379</td>\n",
              "      <td>435</td>\n",
              "      <td>27608</td>\n",
              "      <td>28559</td>\n",
              "      <td>658</td>\n",
              "      <td>618</td>\n",
              "      <td>400</td>\n",
              "      <td>420</td>\n",
              "      <td>147</td>\n",
              "      <td>165</td>\n",
              "      <td>60</td>\n",
              "      <td>37</td>\n",
              "      <td>25522</td>\n",
              "      <td>26722</td>\n",
              "      <td>24494</td>\n",
              "      <td>25682</td>\n",
              "      <td>453</td>\n",
              "      <td>419</td>\n",
              "      <td>143</td>\n",
              "      <td>139</td>\n",
              "      <td>73</td>\n",
              "      <td>90</td>\n",
              "      <td>14</td>\n",
              "      <td>7</td>\n",
              "      <td>345</td>\n",
              "      <td>385</td>\n",
              "      <td>24814</td>\n",
              "      <td>26043</td>\n",
              "      <td>582</td>\n",
              "      <td>560</td>\n",
              "      <td>333</td>\n",
              "      <td>354</td>\n",
              "      <td>129</td>\n",
              "      <td>144</td>\n",
              "      <td>26</td>\n",
              "      <td>16</td>\n",
              "      <td>2950</td>\n",
              "      <td>2632</td>\n",
              "      <td>2764</td>\n",
              "      <td>2472</td>\n",
              "      <td>63</td>\n",
              "      <td>43</td>\n",
              "      <td>49</td>\n",
              "      <td>39</td>\n",
              "      <td>12</td>\n",
              "      <td>10</td>\n",
              "      <td>28</td>\n",
              "      <td>18</td>\n",
              "      <td>34</td>\n",
              "      <td>50</td>\n",
              "      <td>2794</td>\n",
              "      <td>2516</td>\n",
              "      <td>76</td>\n",
              "      <td>58</td>\n",
              "      <td>67</td>\n",
              "      <td>66</td>\n",
              "      <td>18</td>\n",
              "      <td>21</td>\n",
              "      <td>34</td>\n",
              "      <td>21</td>\n",
              "    </tr>\n",
              "  </tbody>\n",
              "</table>\n",
              "</div>"
            ],
            "text/plain": [
              "      SUMLEV  STATE  COUNTY  ... HAAC_FEMALE HNAC_MALE  HNAC_FEMALE\n",
              "209       50      1       1  ...          19        16           11\n",
              "437       50      1       3  ...          65        55           35\n",
              "665       50      1       5  ...           0        14            8\n",
              "893       50      1       7  ...           1        17            3\n",
              "1121      50      1       9  ...          21        34           21\n",
              "\n",
              "[5 rows x 80 columns]"
            ]
          },
          "metadata": {
            "tags": []
          },
          "execution_count": 5
        }
      ]
    },
    {
      "cell_type": "code",
      "metadata": {
        "colab": {
          "base_uri": "https://localhost:8080/"
        },
        "id": "bc5BEOxG5rXG",
        "outputId": "52f6946c-dd78-41f3-c8ae-047dd4e2711b"
      },
      "source": [
        "election_data.shape[0]"
      ],
      "execution_count": null,
      "outputs": [
        {
          "output_type": "execute_result",
          "data": {
            "text/plain": [
              "3142"
            ]
          },
          "metadata": {
            "tags": []
          },
          "execution_count": 6
        }
      ]
    },
    {
      "cell_type": "code",
      "metadata": {
        "colab": {
          "base_uri": "https://localhost:8080/",
          "height": 399
        },
        "id": "QBIlbtYd6E5n",
        "outputId": "b269215c-0440-46a9-a993-ffb2bf5a1552"
      },
      "source": [
        "election_data1.rename(columns={\"CTYNAME\": \"County\"})"
      ],
      "execution_count": null,
      "outputs": [
        {
          "output_type": "execute_result",
          "data": {
            "text/html": [
              "<div>\n",
              "<style scoped>\n",
              "    .dataframe tbody tr th:only-of-type {\n",
              "        vertical-align: middle;\n",
              "    }\n",
              "\n",
              "    .dataframe tbody tr th {\n",
              "        vertical-align: top;\n",
              "    }\n",
              "\n",
              "    .dataframe thead th {\n",
              "        text-align: right;\n",
              "    }\n",
              "</style>\n",
              "<table border=\"1\" class=\"dataframe\">\n",
              "  <thead>\n",
              "    <tr style=\"text-align: right;\">\n",
              "      <th></th>\n",
              "      <th>YEAR</th>\n",
              "      <th>STNAME</th>\n",
              "      <th>County</th>\n",
              "      <th>AGEGRP</th>\n",
              "      <th>TOT_POP</th>\n",
              "      <th>TOT_MALE</th>\n",
              "      <th>TOT_FEMALE</th>\n",
              "      <th>WA_MALE</th>\n",
              "      <th>WA_FEMALE</th>\n",
              "      <th>BA_MALE</th>\n",
              "      <th>BA_FEMALE</th>\n",
              "      <th>IA_MALE</th>\n",
              "      <th>IA_FEMALE</th>\n",
              "      <th>AA_MALE</th>\n",
              "      <th>AA_FEMALE</th>\n",
              "      <th>NA_MALE</th>\n",
              "      <th>NA_FEMALE</th>\n",
              "      <th>H_FEMALE</th>\n",
              "      <th>H_MALE</th>\n",
              "    </tr>\n",
              "  </thead>\n",
              "  <tbody>\n",
              "    <tr>\n",
              "      <th>209</th>\n",
              "      <td>12</td>\n",
              "      <td>Alabama</td>\n",
              "      <td>Autauga County</td>\n",
              "      <td>0</td>\n",
              "      <td>55869</td>\n",
              "      <td>27092</td>\n",
              "      <td>28777</td>\n",
              "      <td>20878</td>\n",
              "      <td>21729</td>\n",
              "      <td>5237</td>\n",
              "      <td>6000</td>\n",
              "      <td>121</td>\n",
              "      <td>145</td>\n",
              "      <td>286</td>\n",
              "      <td>370</td>\n",
              "      <td>32</td>\n",
              "      <td>26</td>\n",
              "      <td>787</td>\n",
              "      <td>884</td>\n",
              "    </tr>\n",
              "    <tr>\n",
              "      <th>437</th>\n",
              "      <td>12</td>\n",
              "      <td>Alabama</td>\n",
              "      <td>Baldwin County</td>\n",
              "      <td>0</td>\n",
              "      <td>223234</td>\n",
              "      <td>108247</td>\n",
              "      <td>114987</td>\n",
              "      <td>94810</td>\n",
              "      <td>100388</td>\n",
              "      <td>9486</td>\n",
              "      <td>10107</td>\n",
              "      <td>903</td>\n",
              "      <td>839</td>\n",
              "      <td>932</td>\n",
              "      <td>1448</td>\n",
              "      <td>74</td>\n",
              "      <td>80</td>\n",
              "      <td>4989</td>\n",
              "      <td>5545</td>\n",
              "    </tr>\n",
              "    <tr>\n",
              "      <th>665</th>\n",
              "      <td>12</td>\n",
              "      <td>Alabama</td>\n",
              "      <td>Barbour County</td>\n",
              "      <td>0</td>\n",
              "      <td>24686</td>\n",
              "      <td>13064</td>\n",
              "      <td>11622</td>\n",
              "      <td>6389</td>\n",
              "      <td>5745</td>\n",
              "      <td>6311</td>\n",
              "      <td>5595</td>\n",
              "      <td>103</td>\n",
              "      <td>67</td>\n",
              "      <td>55</td>\n",
              "      <td>61</td>\n",
              "      <td>34</td>\n",
              "      <td>18</td>\n",
              "      <td>488</td>\n",
              "      <td>629</td>\n",
              "    </tr>\n",
              "    <tr>\n",
              "      <th>893</th>\n",
              "      <td>12</td>\n",
              "      <td>Alabama</td>\n",
              "      <td>Bibb County</td>\n",
              "      <td>0</td>\n",
              "      <td>22394</td>\n",
              "      <td>11929</td>\n",
              "      <td>10465</td>\n",
              "      <td>8766</td>\n",
              "      <td>8425</td>\n",
              "      <td>2941</td>\n",
              "      <td>1822</td>\n",
              "      <td>53</td>\n",
              "      <td>50</td>\n",
              "      <td>23</td>\n",
              "      <td>25</td>\n",
              "      <td>22</td>\n",
              "      <td>4</td>\n",
              "      <td>280</td>\n",
              "      <td>343</td>\n",
              "    </tr>\n",
              "    <tr>\n",
              "      <th>1121</th>\n",
              "      <td>12</td>\n",
              "      <td>Alabama</td>\n",
              "      <td>Blount County</td>\n",
              "      <td>0</td>\n",
              "      <td>57826</td>\n",
              "      <td>28472</td>\n",
              "      <td>29354</td>\n",
              "      <td>27258</td>\n",
              "      <td>28154</td>\n",
              "      <td>516</td>\n",
              "      <td>462</td>\n",
              "      <td>192</td>\n",
              "      <td>178</td>\n",
              "      <td>85</td>\n",
              "      <td>100</td>\n",
              "      <td>42</td>\n",
              "      <td>25</td>\n",
              "      <td>2632</td>\n",
              "      <td>2950</td>\n",
              "    </tr>\n",
              "    <tr>\n",
              "      <th>...</th>\n",
              "      <td>...</td>\n",
              "      <td>...</td>\n",
              "      <td>...</td>\n",
              "      <td>...</td>\n",
              "      <td>...</td>\n",
              "      <td>...</td>\n",
              "      <td>...</td>\n",
              "      <td>...</td>\n",
              "      <td>...</td>\n",
              "      <td>...</td>\n",
              "      <td>...</td>\n",
              "      <td>...</td>\n",
              "      <td>...</td>\n",
              "      <td>...</td>\n",
              "      <td>...</td>\n",
              "      <td>...</td>\n",
              "      <td>...</td>\n",
              "      <td>...</td>\n",
              "      <td>...</td>\n",
              "    </tr>\n",
              "    <tr>\n",
              "      <th>715445</th>\n",
              "      <td>12</td>\n",
              "      <td>Wyoming</td>\n",
              "      <td>Sweetwater County</td>\n",
              "      <td>0</td>\n",
              "      <td>42343</td>\n",
              "      <td>21808</td>\n",
              "      <td>20535</td>\n",
              "      <td>20446</td>\n",
              "      <td>19252</td>\n",
              "      <td>347</td>\n",
              "      <td>251</td>\n",
              "      <td>324</td>\n",
              "      <td>302</td>\n",
              "      <td>203</td>\n",
              "      <td>250</td>\n",
              "      <td>35</td>\n",
              "      <td>34</td>\n",
              "      <td>3221</td>\n",
              "      <td>3551</td>\n",
              "    </tr>\n",
              "    <tr>\n",
              "      <th>715673</th>\n",
              "      <td>12</td>\n",
              "      <td>Wyoming</td>\n",
              "      <td>Teton County</td>\n",
              "      <td>0</td>\n",
              "      <td>23464</td>\n",
              "      <td>12142</td>\n",
              "      <td>11322</td>\n",
              "      <td>11567</td>\n",
              "      <td>10718</td>\n",
              "      <td>101</td>\n",
              "      <td>71</td>\n",
              "      <td>106</td>\n",
              "      <td>102</td>\n",
              "      <td>143</td>\n",
              "      <td>252</td>\n",
              "      <td>20</td>\n",
              "      <td>13</td>\n",
              "      <td>1670</td>\n",
              "      <td>1884</td>\n",
              "    </tr>\n",
              "    <tr>\n",
              "      <th>715901</th>\n",
              "      <td>12</td>\n",
              "      <td>Wyoming</td>\n",
              "      <td>Uinta County</td>\n",
              "      <td>0</td>\n",
              "      <td>20226</td>\n",
              "      <td>10224</td>\n",
              "      <td>10002</td>\n",
              "      <td>9753</td>\n",
              "      <td>9524</td>\n",
              "      <td>77</td>\n",
              "      <td>75</td>\n",
              "      <td>135</td>\n",
              "      <td>157</td>\n",
              "      <td>38</td>\n",
              "      <td>62</td>\n",
              "      <td>17</td>\n",
              "      <td>14</td>\n",
              "      <td>944</td>\n",
              "      <td>927</td>\n",
              "    </tr>\n",
              "    <tr>\n",
              "      <th>716129</th>\n",
              "      <td>12</td>\n",
              "      <td>Wyoming</td>\n",
              "      <td>Washakie County</td>\n",
              "      <td>0</td>\n",
              "      <td>7805</td>\n",
              "      <td>3963</td>\n",
              "      <td>3842</td>\n",
              "      <td>3759</td>\n",
              "      <td>3618</td>\n",
              "      <td>25</td>\n",
              "      <td>19</td>\n",
              "      <td>63</td>\n",
              "      <td>75</td>\n",
              "      <td>25</td>\n",
              "      <td>39</td>\n",
              "      <td>4</td>\n",
              "      <td>2</td>\n",
              "      <td>543</td>\n",
              "      <td>565</td>\n",
              "    </tr>\n",
              "    <tr>\n",
              "      <th>716357</th>\n",
              "      <td>12</td>\n",
              "      <td>Wyoming</td>\n",
              "      <td>Weston County</td>\n",
              "      <td>0</td>\n",
              "      <td>6927</td>\n",
              "      <td>3624</td>\n",
              "      <td>3303</td>\n",
              "      <td>3392</td>\n",
              "      <td>3062</td>\n",
              "      <td>32</td>\n",
              "      <td>16</td>\n",
              "      <td>78</td>\n",
              "      <td>53</td>\n",
              "      <td>34</td>\n",
              "      <td>83</td>\n",
              "      <td>2</td>\n",
              "      <td>0</td>\n",
              "      <td>130</td>\n",
              "      <td>155</td>\n",
              "    </tr>\n",
              "  </tbody>\n",
              "</table>\n",
              "<p>3142 rows × 19 columns</p>\n",
              "</div>"
            ],
            "text/plain": [
              "        YEAR   STNAME             County  ...  NA_FEMALE  H_FEMALE  H_MALE\n",
              "209       12  Alabama     Autauga County  ...         26       787     884\n",
              "437       12  Alabama     Baldwin County  ...         80      4989    5545\n",
              "665       12  Alabama     Barbour County  ...         18       488     629\n",
              "893       12  Alabama        Bibb County  ...          4       280     343\n",
              "1121      12  Alabama      Blount County  ...         25      2632    2950\n",
              "...      ...      ...                ...  ...        ...       ...     ...\n",
              "715445    12  Wyoming  Sweetwater County  ...         34      3221    3551\n",
              "715673    12  Wyoming       Teton County  ...         13      1670    1884\n",
              "715901    12  Wyoming       Uinta County  ...         14       944     927\n",
              "716129    12  Wyoming    Washakie County  ...          2       543     565\n",
              "716357    12  Wyoming      Weston County  ...          0       130     155\n",
              "\n",
              "[3142 rows x 19 columns]"
            ]
          },
          "metadata": {
            "tags": []
          },
          "execution_count": 28
        }
      ]
    },
    {
      "cell_type": "code",
      "metadata": {
        "colab": {
          "base_uri": "https://localhost:8080/"
        },
        "id": "WQT4RmiimwNg",
        "outputId": "0bfbb71a-618a-4655-f9fe-b01809d85e84"
      },
      "source": [
        "election_data1['STNAME'].replace({\n",
        "'Arkansa': 'Arkansas', 'Califor': 'California', 'Colorad': 'Colorado', 'Connect': 'Connecticut', 'Delawar': 'Delaware', 'Distric': 'District of Columbia', \n",
        "'Illinoi': 'Illinois', 'Kentuck': 'Kentucky',\n",
        "'Louisia': 'Louisiana', 'Marylan': 'Maryland', 'Massach': 'Massachusetts', 'Michiga': 'Michigan',\n",
        "'Minneso': 'Minnesota', 'Mississ': 'Mississippi', 'Missour': 'Missouri', 'Nebrask': 'Nebraska',\n",
        "'New Ham': 'New Hampshire', 'New Jer': 'New Jersey', 'New Mex': 'New Mexico', 'New Yor': 'New York',\n",
        "'North C': 'North Carolina', 'North D': 'North Dakota', 'Oklahom': 'Oklahoma', 'Pennsyl': 'Pennsylvania',\n",
        "'Rhode I': 'Rhode Island', 'South C': 'South Carolina', 'South D': 'South Dakota', 'Tenness': 'Tennessee',\n",
        "'Virgini': 'Virginia', 'Washing': 'Washington', 'West Vi': 'West Virginia', 'Wiscons': 'Wisconsin'})"
      ],
      "execution_count": null,
      "outputs": [
        {
          "output_type": "execute_result",
          "data": {
            "text/plain": [
              "209       Alabama\n",
              "437       Alabama\n",
              "665       Alabama\n",
              "893       Alabama\n",
              "1121      Alabama\n",
              "           ...   \n",
              "715445    Wyoming\n",
              "715673    Wyoming\n",
              "715901    Wyoming\n",
              "716129    Wyoming\n",
              "716357    Wyoming\n",
              "Name: STNAME, Length: 3142, dtype: object"
            ]
          },
          "metadata": {
            "tags": []
          },
          "execution_count": 29
        }
      ]
    },
    {
      "cell_type": "code",
      "metadata": {
        "colab": {
          "base_uri": "https://localhost:8080/"
        },
        "id": "jI6JV1AhqBaj",
        "outputId": "0d906ee1-28aa-48c8-cef8-3882e1076a05"
      },
      "source": [
        "election_data1.STNAME.unique()"
      ],
      "execution_count": null,
      "outputs": [
        {
          "output_type": "execute_result",
          "data": {
            "text/plain": [
              "array(['Alabama', 'Alaska', 'Arizona', 'Arkansas', 'California',\n",
              "       'Colorado', 'Connecticut', 'Delaware', 'District of Columbia',\n",
              "       'Florida', 'Georgia', 'Hawaii', 'Idaho', 'Illinois', 'Indiana',\n",
              "       'Iowa', 'Kansas', 'Kentucky', 'Louisiana', 'Maine', 'Maryland',\n",
              "       'Massachusetts', 'Michigan', 'Minnesota', 'Mississippi',\n",
              "       'Missouri', 'Montana', 'Nebraska', 'Nevada', 'New Hampshire',\n",
              "       'New Jersey', 'New Mexico', 'New York', 'North Carolina',\n",
              "       'North Dakota', 'Ohio', 'Oklahoma', 'Oregon', 'Pennsylvania',\n",
              "       'Rhode Island', 'South Carolina', 'South Dakota', 'Tennessee',\n",
              "       'Texas', 'Utah', 'Vermont', 'Virginia', 'Washington',\n",
              "       'West Virginia', 'Wisconsin', 'Wyoming'], dtype=object)"
            ]
          },
          "metadata": {
            "tags": []
          },
          "execution_count": 30
        }
      ]
    },
    {
      "cell_type": "code",
      "metadata": {
        "id": "17I-vVWn6rqx"
      },
      "source": [
        "election_data.to_csv(r'/content/drive/My Drive/Election Dataset/racesex_data_edited_allvar.csv', index = False)"
      ],
      "execution_count": null,
      "outputs": []
    },
    {
      "cell_type": "markdown",
      "metadata": {
        "id": "jjv2WRgtjwwd"
      },
      "source": [
        "Create Training Test Data"
      ]
    },
    {
      "cell_type": "code",
      "metadata": {
        "id": "q9Ghz6Bmjvft",
        "colab": {
          "base_uri": "https://localhost:8080/",
          "height": 239
        },
        "outputId": "2b01de26-b8d3-44ec-b4f5-b26fe5470bb7"
      },
      "source": [
        "from sklearn.model_selection import train_test_split\n",
        "\n",
        "mPCA = pcaData.drop(['id','diag','PC18','PC19','PC20','PC21','PC22','PC23','PC24','PC25','PC26','PC27','PC28','PC29','PC30'], axis=1)\n",
        "X=mPCA\n",
        "y = y_\n",
        "\n",
        "X_train, X_test, y_train, y_test = train_test_split(X, y, test_size=0.1, random_state=0)\n",
        "\n",
        "print(X_train.shape)\n",
        "print(X_test.shape)\n",
        "\n",
        "from sklearn.preprocessing import StandardScaler\n",
        "\n",
        "sc = StandardScaler()\n",
        "X_train = sc.fit_transform(X_train)\n",
        "X_test = sc.transform(X_test)\n",
        "#print(X_train)\n",
        "X_train_df = pd.DataFrame(X_train)\n",
        "y_train_df = pd.DataFrame(y_train)\n",
        "\n",
        "#y_train_df"
      ],
      "execution_count": null,
      "outputs": [
        {
          "output_type": "error",
          "ename": "NameError",
          "evalue": "ignored",
          "traceback": [
            "\u001b[0;31m---------------------------------------------------------------------------\u001b[0m",
            "\u001b[0;31mNameError\u001b[0m                                 Traceback (most recent call last)",
            "\u001b[0;32m<ipython-input-4-6cb287b145f7>\u001b[0m in \u001b[0;36m<module>\u001b[0;34m()\u001b[0m\n\u001b[1;32m      3\u001b[0m \u001b[0mmPCA\u001b[0m \u001b[0;34m=\u001b[0m \u001b[0mpcaData\u001b[0m\u001b[0;34m.\u001b[0m\u001b[0mdrop\u001b[0m\u001b[0;34m(\u001b[0m\u001b[0;34m[\u001b[0m\u001b[0;34m'id'\u001b[0m\u001b[0;34m,\u001b[0m\u001b[0;34m'diag'\u001b[0m\u001b[0;34m,\u001b[0m\u001b[0;34m'PC18'\u001b[0m\u001b[0;34m,\u001b[0m\u001b[0;34m'PC19'\u001b[0m\u001b[0;34m,\u001b[0m\u001b[0;34m'PC20'\u001b[0m\u001b[0;34m,\u001b[0m\u001b[0;34m'PC21'\u001b[0m\u001b[0;34m,\u001b[0m\u001b[0;34m'PC22'\u001b[0m\u001b[0;34m,\u001b[0m\u001b[0;34m'PC23'\u001b[0m\u001b[0;34m,\u001b[0m\u001b[0;34m'PC24'\u001b[0m\u001b[0;34m,\u001b[0m\u001b[0;34m'PC25'\u001b[0m\u001b[0;34m,\u001b[0m\u001b[0;34m'PC26'\u001b[0m\u001b[0;34m,\u001b[0m\u001b[0;34m'PC27'\u001b[0m\u001b[0;34m,\u001b[0m\u001b[0;34m'PC28'\u001b[0m\u001b[0;34m,\u001b[0m\u001b[0;34m'PC29'\u001b[0m\u001b[0;34m,\u001b[0m\u001b[0;34m'PC30'\u001b[0m\u001b[0;34m]\u001b[0m\u001b[0;34m,\u001b[0m \u001b[0maxis\u001b[0m\u001b[0;34m=\u001b[0m\u001b[0;36m1\u001b[0m\u001b[0;34m)\u001b[0m\u001b[0;34m\u001b[0m\u001b[0;34m\u001b[0m\u001b[0m\n\u001b[1;32m      4\u001b[0m \u001b[0mX\u001b[0m\u001b[0;34m=\u001b[0m\u001b[0mmPCA\u001b[0m\u001b[0;34m\u001b[0m\u001b[0;34m\u001b[0m\u001b[0m\n\u001b[0;32m----> 5\u001b[0;31m \u001b[0my\u001b[0m \u001b[0;34m=\u001b[0m \u001b[0my_\u001b[0m\u001b[0;34m\u001b[0m\u001b[0;34m\u001b[0m\u001b[0m\n\u001b[0m\u001b[1;32m      6\u001b[0m \u001b[0;34m\u001b[0m\u001b[0m\n\u001b[1;32m      7\u001b[0m \u001b[0mX_train\u001b[0m\u001b[0;34m,\u001b[0m \u001b[0mX_test\u001b[0m\u001b[0;34m,\u001b[0m \u001b[0my_train\u001b[0m\u001b[0;34m,\u001b[0m \u001b[0my_test\u001b[0m \u001b[0;34m=\u001b[0m \u001b[0mtrain_test_split\u001b[0m\u001b[0;34m(\u001b[0m\u001b[0mX\u001b[0m\u001b[0;34m,\u001b[0m \u001b[0my\u001b[0m\u001b[0;34m,\u001b[0m \u001b[0mtest_size\u001b[0m\u001b[0;34m=\u001b[0m\u001b[0;36m0.1\u001b[0m\u001b[0;34m,\u001b[0m \u001b[0mrandom_state\u001b[0m\u001b[0;34m=\u001b[0m\u001b[0;36m0\u001b[0m\u001b[0;34m)\u001b[0m\u001b[0;34m\u001b[0m\u001b[0;34m\u001b[0m\u001b[0m\n",
            "\u001b[0;31mNameError\u001b[0m: name 'y_' is not defined"
          ]
        }
      ]
    },
    {
      "cell_type": "code",
      "metadata": {
        "id": "iTG7utY39pOB",
        "colab": {
          "base_uri": "https://localhost:8080/",
          "height": 239
        },
        "outputId": "c2d60372-15e9-41a7-a974-279a3f38125e"
      },
      "source": [
        "X_PCA_model = lda.fit(X_train, y_train)\n",
        "\n",
        "predX_PCA = X_PCA_model.predict(X_test)\n",
        "\n",
        "print(confusion_matrix(predX_PCA, y_test))\n",
        "print(classification_report(y_test, predX_PCA, digits=3))\n",
        "cm_pca_X = confusion_matrix(predX_PCA, y_test)"
      ],
      "execution_count": null,
      "outputs": [
        {
          "output_type": "error",
          "ename": "NameError",
          "evalue": "ignored",
          "traceback": [
            "\u001b[0;31m---------------------------------------------------------------------------\u001b[0m",
            "\u001b[0;31mNameError\u001b[0m                                 Traceback (most recent call last)",
            "\u001b[0;32m<ipython-input-5-fcf090f8bec6>\u001b[0m in \u001b[0;36m<module>\u001b[0;34m()\u001b[0m\n\u001b[0;32m----> 1\u001b[0;31m \u001b[0mX_PCA_model\u001b[0m \u001b[0;34m=\u001b[0m \u001b[0mlda\u001b[0m\u001b[0;34m.\u001b[0m\u001b[0mfit\u001b[0m\u001b[0;34m(\u001b[0m\u001b[0mX_train\u001b[0m\u001b[0;34m,\u001b[0m \u001b[0my_train\u001b[0m\u001b[0;34m)\u001b[0m\u001b[0;34m\u001b[0m\u001b[0;34m\u001b[0m\u001b[0m\n\u001b[0m\u001b[1;32m      2\u001b[0m \u001b[0;34m\u001b[0m\u001b[0m\n\u001b[1;32m      3\u001b[0m \u001b[0mpredX_PCA\u001b[0m \u001b[0;34m=\u001b[0m \u001b[0mX_PCA_model\u001b[0m\u001b[0;34m.\u001b[0m\u001b[0mpredict\u001b[0m\u001b[0;34m(\u001b[0m\u001b[0mX_test\u001b[0m\u001b[0;34m)\u001b[0m\u001b[0;34m\u001b[0m\u001b[0;34m\u001b[0m\u001b[0m\n\u001b[1;32m      4\u001b[0m \u001b[0;34m\u001b[0m\u001b[0m\n\u001b[1;32m      5\u001b[0m \u001b[0mprint\u001b[0m\u001b[0;34m(\u001b[0m\u001b[0mconfusion_matrix\u001b[0m\u001b[0;34m(\u001b[0m\u001b[0mpredX_PCA\u001b[0m\u001b[0;34m,\u001b[0m \u001b[0my_test\u001b[0m\u001b[0;34m)\u001b[0m\u001b[0;34m)\u001b[0m\u001b[0;34m\u001b[0m\u001b[0;34m\u001b[0m\u001b[0m\n",
            "\u001b[0;31mNameError\u001b[0m: name 'lda' is not defined"
          ]
        }
      ]
    },
    {
      "cell_type": "markdown",
      "metadata": {
        "id": "sMzmmTh7QYx1"
      },
      "source": [
        "Run"
      ]
    },
    {
      "cell_type": "code",
      "metadata": {
        "id": "9wOI4izWped-"
      },
      "source": [
        "\n",
        "from sklearn.discriminant_analysis import LinearDiscriminantAnalysis, QuadraticDiscriminantAnalysis"
      ],
      "execution_count": null,
      "outputs": []
    },
    {
      "cell_type": "code",
      "metadata": {
        "id": "CAQothqyrVQ7"
      },
      "source": [
        "from sklearn.metrics import confusion_matrix, classification_report, precision_score\n",
        "%matplotlib inline"
      ],
      "execution_count": null,
      "outputs": []
    },
    {
      "cell_type": "code",
      "metadata": {
        "id": "jepYiqjCrg6o",
        "colab": {
          "base_uri": "https://localhost:8080/"
        },
        "outputId": "6a09b75d-6927-4d33-bae8-d70ad4ad9c7b"
      },
      "source": [
        "lda = LinearDiscriminantAnalysis()\n",
        "#x = pd.DataFrame([breast_cancer_data['radius_mean'], breast_cancer_data['texture_mean']],index = [1] )\n",
        "\n",
        "m = breast_cancer_data.drop(['Unnamed: 32'], axis=1)\n",
        "\n",
        "print(m.groupby('diagnosis').count())\n",
        "from sklearn import preprocessing\n",
        "le = preprocessing.LabelEncoder()\n",
        "le.fit([\"B\", \"M\"])\n",
        "#le.classes_\n",
        "le.transform([\"B\", \"M\"])\n",
        "\n",
        "le.transform(m['diagnosis'])\n",
        "\n",
        "m['diagnosis_B_0_M_1'] = le.transform(m['diagnosis'])\n",
        "\n",
        "m = m.drop(['diagnosis', 'id'], axis = 1)\n",
        "\n",
        "print(m)\n",
        "\n",
        "\n",
        "#print(m)\n",
        "model = lda.fit(m, m['diagnosis_B_0_M_1'])\n",
        "#model.size\n",
        "#print(model.priors_)\n",
        "#print(model.means_)\n",
        "pred=model.predict(m)\n",
        "#print(pred)\n",
        "y_ = m['diagnosis_B_0_M_1']\n",
        "#print(y_)\n",
        "\n",
        "print(y_)"
      ],
      "execution_count": null,
      "outputs": [
        {
          "output_type": "stream",
          "text": [
            "            id  radius_mean  ...  symmetry_worst  fractal_dimension_worst\n",
            "diagnosis                    ...                                         \n",
            "B          357          357  ...             357                      357\n",
            "M          212          212  ...             212                      212\n",
            "\n",
            "[2 rows x 31 columns]\n",
            "     radius_mean  texture_mean  ...  fractal_dimension_worst  diagnosis_B_0_M_1\n",
            "0          17.99         10.38  ...                  0.11890                  1\n",
            "1          20.57         17.77  ...                  0.08902                  1\n",
            "2          19.69         21.25  ...                  0.08758                  1\n",
            "3          11.42         20.38  ...                  0.17300                  1\n",
            "4          20.29         14.34  ...                  0.07678                  1\n",
            "..           ...           ...  ...                      ...                ...\n",
            "564        21.56         22.39  ...                  0.07115                  1\n",
            "565        20.13         28.25  ...                  0.06637                  1\n",
            "566        16.60         28.08  ...                  0.07820                  1\n",
            "567        20.60         29.33  ...                  0.12400                  1\n",
            "568         7.76         24.54  ...                  0.07039                  0\n",
            "\n",
            "[569 rows x 31 columns]\n",
            "0      1\n",
            "1      1\n",
            "2      1\n",
            "3      1\n",
            "4      1\n",
            "      ..\n",
            "564    1\n",
            "565    1\n",
            "566    1\n",
            "567    1\n",
            "568    0\n",
            "Name: diagnosis_B_0_M_1, Length: 569, dtype: int64\n"
          ],
          "name": "stdout"
        }
      ]
    },
    {
      "cell_type": "code",
      "metadata": {
        "id": "2-X2hzCLGRrk",
        "colab": {
          "base_uri": "https://localhost:8080/"
        },
        "outputId": "cca6e6bd-a89a-49c8-c9ef-fbed433b60d2"
      },
      "source": [
        "print(confusion_matrix(pred, y_))\n",
        "print(classification_report(y_, pred, digits=3))"
      ],
      "execution_count": null,
      "outputs": [
        {
          "output_type": "stream",
          "text": [
            "[[355  18]\n",
            " [  2 194]]\n",
            "              precision    recall  f1-score   support\n",
            "\n",
            "           0      0.952     0.994     0.973       357\n",
            "           1      0.990     0.915     0.951       212\n",
            "\n",
            "    accuracy                          0.965       569\n",
            "   macro avg      0.971     0.955     0.962       569\n",
            "weighted avg      0.966     0.965     0.965       569\n",
            "\n"
          ],
          "name": "stdout"
        }
      ]
    },
    {
      "cell_type": "markdown",
      "metadata": {
        "id": "71d1DxcBQd70"
      },
      "source": [
        "LDA Code with PCA data"
      ]
    },
    {
      "cell_type": "code",
      "metadata": {
        "id": "G0Y0DZbRkViy"
      },
      "source": [
        "mPCA = pcaDataLog.drop(['id','diag','PC18','PC19','PC20','PC21','PC22','PC23','PC24','PC25','PC26','PC27','PC28','PC29'], axis=1)\n",
        "X=mPCA\n",
        "y = y_"
      ],
      "execution_count": null,
      "outputs": []
    },
    {
      "cell_type": "code",
      "metadata": {
        "id": "doUiySU3Zljz",
        "colab": {
          "base_uri": "https://localhost:8080/"
        },
        "outputId": "257b44ce-7fe1-49a0-b0aa-001e97a2033b"
      },
      "source": [
        "print(pcaDataLog)"
      ],
      "execution_count": null,
      "outputs": [
        {
          "output_type": "stream",
          "text": [
            "           id diag       PC1       PC2  ...      PC26      PC27      PC28      PC29\n",
            "0      842302    M -8.562861  2.090376  ... -0.120549  0.034262  0.016117  0.013078\n",
            "1      842517    M -2.571650 -3.831504  ...  0.149419 -0.014244 -0.000665 -0.003716\n",
            "2    84300903    M -5.983603 -0.874558  ...  0.074829 -0.037010  0.003203  0.010036\n",
            "3    84348301    M -6.168069  9.069761  ...  0.031904  0.021801  0.002496  0.000479\n",
            "4    84358402    M -4.220194 -1.423935  ...  0.053726  0.016932 -0.016159 -0.001641\n",
            "..        ...  ...       ...       ...  ...       ...       ...       ...       ...\n",
            "564    926424    M -6.367064 -2.382959  ...  0.021010 -0.022162  0.005870 -0.001880\n",
            "565    926682    M -4.223115 -2.915968  ... -0.003199  0.011565  0.008265 -0.002737\n",
            "566    926954    M -1.830393 -2.006681  ...  0.024503  0.000463  0.002068 -0.002653\n",
            "567    927241    M -9.812725  1.498770  ...  0.092342  0.107631  0.022682  0.008791\n",
            "568     92751    B  6.263363  0.129954  ... -0.026610 -0.014164  0.056790  0.016707\n",
            "\n",
            "[569 rows x 31 columns]\n"
          ],
          "name": "stdout"
        }
      ]
    },
    {
      "cell_type": "code",
      "metadata": {
        "id": "gjVMeQ04cNr9"
      },
      "source": [
        "mPCA = pcaDataLog.drop(['id','diag','PC5','PC6','PC7','PC8','PC9', 'PC10','PC11','PC12','PC13','PC14','PC15','PC16','PC17'\n",
        "                        ,'PC18','PC19','PC20','PC21','PC22','PC23','PC24','PC25','PC26','PC27','PC28','PC29'], axis=1)\n",
        "X=mPCA\n",
        "y = y_"
      ],
      "execution_count": null,
      "outputs": []
    },
    {
      "cell_type": "code",
      "metadata": {
        "id": "7rpsbwNXkIGJ",
        "colab": {
          "base_uri": "https://localhost:8080/"
        },
        "outputId": "773b5451-3615-430a-9723-29424aadd1ec"
      },
      "source": [
        "from sklearn.model_selection import KFold # import KFold\n",
        "#kf = KFold(n_splits=10) # Define the split – into 2 folds\n",
        "#kf.get_n_splits(mPCA) # returns the number of splitting iterations in the cross-validator\n",
        "#print(kf) \n",
        "#KFold(n_splits=10, random_state=None, shuffle=False)\n",
        "#from sklearn import cross_validation\n",
        "\n",
        "k_fold = KFold(10, True, 1)\n",
        "print('LDA Results: ')\n",
        "for train, test in k_fold.split(X):\n",
        "\tprint('train: %s, test: %s' % (train, test))\n",
        "\t#print(len(train))"
      ],
      "execution_count": null,
      "outputs": [
        {
          "output_type": "stream",
          "text": [
            "LDA Results: \n",
            "train: [  1   2   3   4   5   6   7   8   9  10  11  12  13  14  15  16  18  19\n",
            "  20  21  22  23  24  25  26  27  28  30  31  32  33  34  35  36  37  38\n",
            "  39  40  42  43  44  45  46  48  50  51  52  53  54  55  56  57  58  59\n",
            "  60  61  62  63  64  67  68  69  70  71  72  73  74  75  76  77  78  79\n",
            "  80  81  82  83  84  86  87  88  89  91  92  93  94  95  96  97  98  99\n",
            " 100 101 102 103 104 105 106 108 109 110 112 113 114 115 116 117 118 119\n",
            " 120 121 122 123 125 126 127 128 129 130 131 133 134 135 136 137 138 139\n",
            " 140 141 142 143 144 145 146 147 148 149 150 151 152 153 154 155 156 157\n",
            " 158 159 162 163 164 165 166 167 168 169 170 171 172 173 174 175 176 177\n",
            " 178 179 181 182 183 184 185 188 189 190 191 192 193 194 196 198 199 200\n",
            " 201 202 203 204 205 206 208 209 210 211 212 213 215 216 217 218 219 220\n",
            " 222 223 224 225 226 227 228 229 230 231 232 233 234 235 236 238 239 240\n",
            " 241 243 244 246 247 248 249 250 251 252 253 254 255 256 258 259 260 261\n",
            " 262 263 264 265 266 267 268 269 270 271 272 275 276 277 278 279 280 281\n",
            " 282 284 286 287 288 289 290 291 293 294 295 296 297 298 299 300 301 302\n",
            " 303 304 305 306 307 308 309 310 311 312 313 314 315 316 317 318 319 320\n",
            " 321 322 323 325 327 328 329 330 331 332 333 334 335 336 337 338 339 340\n",
            " 341 343 344 345 346 347 348 349 350 351 352 353 354 355 356 357 358 359\n",
            " 360 361 363 364 365 366 367 368 369 370 371 372 373 374 375 377 378 379\n",
            " 380 381 382 383 384 385 386 387 388 389 390 391 392 393 394 395 396 397\n",
            " 398 399 400 401 402 403 404 405 406 407 408 409 410 412 413 415 416 417\n",
            " 418 419 422 423 425 426 427 428 429 430 431 432 433 434 436 437 438 439\n",
            " 440 441 442 443 444 445 446 447 448 449 450 452 454 455 456 457 458 459\n",
            " 460 461 462 463 464 465 466 467 468 469 470 471 472 473 474 475 476 478\n",
            " 479 480 481 482 483 484 485 487 489 490 491 493 494 495 496 497 498 499\n",
            " 500 501 502 503 504 505 506 507 508 509 510 511 512 513 514 515 516 517\n",
            " 521 522 523 524 525 526 527 528 529 530 531 532 533 534 535 536 537 538\n",
            " 540 541 543 544 545 546 547 548 549 550 551 552 553 554 555 556 557 559\n",
            " 560 561 562 563 565 566 567 568], test: [  0  17  29  41  47  49  65  66  85  90 107 111 124 132 160 161 180 186\n",
            " 187 195 197 207 214 221 237 242 245 257 273 274 283 285 292 324 326 342\n",
            " 362 376 411 414 420 421 424 435 451 453 477 486 488 492 518 519 520 539\n",
            " 542 558 564]\n",
            "train: [  0   1   2   4   6   7   8  10  11  12  13  14  15  16  17  18  19  20\n",
            "  21  22  23  24  25  26  27  28  29  30  32  33  35  36  37  39  41  42\n",
            "  43  44  45  46  47  48  49  50  51  52  53  54  55  56  57  58  60  61\n",
            "  63  64  65  66  70  71  72  73  74  75  76  77  78  79  80  81  82  83\n",
            "  84  85  86  87  88  89  90  91  93  94  95  96  97  98  99 100 101 102\n",
            " 103 104 105 106 107 108 109 110 111 112 113 114 115 116 117 118 121 122\n",
            " 123 124 125 126 127 128 129 130 131 132 133 134 136 137 138 139 140 141\n",
            " 142 143 144 145 146 148 149 150 151 152 153 154 155 156 157 158 160 161\n",
            " 162 163 164 166 167 168 169 170 171 173 174 175 176 177 178 180 181 182\n",
            " 183 184 185 186 187 188 190 191 192 193 194 195 196 197 198 199 200 201\n",
            " 202 203 204 205 206 207 208 209 210 211 212 213 214 215 216 217 218 219\n",
            " 220 221 222 223 224 225 226 227 228 229 230 231 232 234 235 236 237 238\n",
            " 239 240 241 242 243 244 245 247 248 249 250 251 252 253 254 255 256 257\n",
            " 259 260 261 262 263 264 265 266 267 268 269 270 271 272 273 274 275 276\n",
            " 278 279 280 281 282 283 284 285 287 288 290 291 292 293 294 296 297 298\n",
            " 299 300 301 302 303 306 307 309 310 311 312 313 314 315 316 317 318 319\n",
            " 320 321 322 323 324 325 326 327 328 329 330 331 332 333 334 336 337 338\n",
            " 339 340 341 342 343 345 348 349 350 351 352 353 354 355 356 357 359 360\n",
            " 361 362 363 364 365 366 367 368 369 371 372 373 374 375 376 377 379 380\n",
            " 381 382 383 384 385 386 387 388 389 390 391 392 393 394 395 396 397 398\n",
            " 401 402 404 405 406 407 408 409 410 411 412 413 414 415 416 417 418 419\n",
            " 420 421 422 423 424 426 427 428 429 430 431 433 434 435 436 437 438 439\n",
            " 440 441 444 445 446 447 449 450 451 452 453 454 455 456 458 459 460 461\n",
            " 463 464 465 466 467 468 469 470 471 472 473 474 475 476 477 478 479 481\n",
            " 482 483 484 485 486 487 488 489 490 491 492 493 494 495 497 498 499 500\n",
            " 502 503 504 505 506 507 508 509 510 511 512 513 514 515 516 517 518 519\n",
            " 520 521 522 523 524 525 526 527 528 529 530 532 533 534 535 536 537 538\n",
            " 539 540 541 542 543 544 546 548 549 551 552 553 554 556 557 558 559 560\n",
            " 561 562 563 564 565 566 567 568], test: [  3   5   9  31  34  38  40  59  62  67  68  69  92 119 120 135 147 159\n",
            " 165 172 179 189 233 246 258 277 286 289 295 304 305 308 335 344 346 347\n",
            " 358 370 378 399 400 403 425 432 442 443 448 457 462 480 496 501 531 545\n",
            " 547 550 555]\n",
            "train: [  0   1   2   3   5   7   8   9  10  12  13  14  15  17  18  20  21  22\n",
            "  23  24  25  26  27  28  29  30  31  32  33  34  35  36  37  38  39  40\n",
            "  41  43  44  45  46  47  48  49  50  51  52  53  54  55  56  57  58  59\n",
            "  60  61  62  63  64  65  66  67  68  69  70  71  72  73  74  75  76  77\n",
            "  79  80  81  82  83  84  85  86  87  88  89  90  91  92  93  94  95  96\n",
            "  97  98  99 100 101 103 104 105 106 107 108 109 111 112 113 114 115 116\n",
            " 118 119 120 121 122 123 124 125 126 127 129 130 131 132 134 135 136 137\n",
            " 138 139 140 141 143 144 145 147 148 149 150 151 152 153 154 155 156 158\n",
            " 159 160 161 163 164 165 166 167 168 169 170 171 172 174 175 176 177 178\n",
            " 179 180 181 182 183 184 185 186 187 188 189 190 191 192 193 194 195 196\n",
            " 197 198 199 200 202 203 204 205 206 207 208 209 210 211 212 213 214 215\n",
            " 216 217 218 219 220 221 222 224 226 227 228 229 230 231 233 234 235 237\n",
            " 238 239 240 241 242 243 245 246 248 249 250 251 252 253 254 255 256 257\n",
            " 258 259 260 261 262 263 264 265 266 267 269 270 271 272 273 274 275 276\n",
            " 277 278 279 280 281 282 283 285 286 287 288 289 290 292 294 295 296 297\n",
            " 298 299 300 301 302 303 304 305 308 309 310 311 312 313 314 315 316 317\n",
            " 318 319 320 321 322 323 324 325 326 327 328 330 331 332 333 335 336 337\n",
            " 338 339 340 341 342 343 344 345 346 347 348 349 351 352 353 354 355 356\n",
            " 357 358 359 360 361 362 363 364 365 366 367 368 369 370 371 372 373 374\n",
            " 375 376 377 378 379 380 381 382 383 384 385 387 388 389 390 391 393 394\n",
            " 395 396 397 398 399 400 401 402 403 405 406 411 412 414 416 417 418 420\n",
            " 421 422 423 424 425 426 427 428 429 430 431 432 433 435 436 437 438 440\n",
            " 441 442 443 444 446 448 449 450 451 452 453 454 455 456 457 458 459 460\n",
            " 461 462 463 464 465 466 467 468 469 470 471 472 473 474 475 476 477 478\n",
            " 479 480 481 482 485 486 488 489 490 491 492 493 494 495 496 497 498 499\n",
            " 500 501 502 503 504 505 506 507 508 509 510 511 512 513 515 516 518 519\n",
            " 520 521 522 523 524 525 526 527 528 529 530 531 532 533 534 536 537 538\n",
            " 539 540 541 542 543 544 545 547 548 549 550 552 553 555 556 557 558 559\n",
            " 560 561 563 564 565 566 567 568], test: [  4   6  11  16  19  42  78 102 110 117 128 133 142 146 157 162 173 201\n",
            " 223 225 232 236 244 247 268 284 291 293 306 307 329 334 350 386 392 404\n",
            " 407 408 409 410 413 415 419 434 439 445 447 483 484 487 514 517 535 546\n",
            " 551 554 562]\n",
            "train: [  0   1   2   3   4   5   6   7   8   9  10  11  12  13  14  15  16  17\n",
            "  19  20  21  22  24  25  26  27  28  29  30  31  32  33  34  35  36  37\n",
            "  38  39  40  41  42  43  44  45  47  48  49  50  51  52  53  54  55  56\n",
            "  57  59  60  61  62  63  64  65  66  67  68  69  70  71  72  73  74  75\n",
            "  76  77  78  79  82  83  84  85  86  87  89  90  91  92  94  96  97  98\n",
            "  99 100 102 103 105 107 108 109 110 111 112 113 114 116 117 118 119 120\n",
            " 123 124 125 126 127 128 129 130 131 132 133 134 135 136 137 138 140 141\n",
            " 142 143 144 145 146 147 148 149 150 151 152 153 154 155 156 157 158 159\n",
            " 160 161 162 163 164 165 166 167 169 170 171 172 173 174 175 176 177 178\n",
            " 179 180 181 182 183 184 186 187 188 189 190 191 193 194 195 196 197 198\n",
            " 199 200 201 202 203 205 206 207 208 209 210 211 212 214 215 216 217 219\n",
            " 220 221 222 223 224 225 226 227 228 229 230 231 232 233 234 235 236 237\n",
            " 238 239 240 242 243 244 245 246 247 248 251 252 253 254 255 256 257 258\n",
            " 259 262 263 264 265 266 267 268 269 270 271 272 273 274 275 276 277 278\n",
            " 279 280 281 282 283 284 285 286 287 288 289 290 291 292 293 294 295 296\n",
            " 297 298 299 300 301 302 303 304 305 306 307 308 309 310 312 313 316 317\n",
            " 319 320 321 322 323 324 325 326 327 329 330 331 332 333 334 335 336 337\n",
            " 338 339 340 341 342 343 344 345 346 347 348 349 350 351 352 353 354 356\n",
            " 357 358 359 362 363 364 365 366 367 368 369 370 371 372 373 376 377 378\n",
            " 380 381 382 384 386 387 388 389 390 391 392 393 395 396 397 398 399 400\n",
            " 401 403 404 405 406 407 408 409 410 411 412 413 414 415 416 417 418 419\n",
            " 420 421 423 424 425 426 427 428 429 430 431 432 433 434 435 436 437 438\n",
            " 439 441 442 443 444 445 446 447 448 449 450 451 452 453 454 455 456 457\n",
            " 458 459 460 461 462 464 466 467 468 469 471 473 474 475 477 478 480 481\n",
            " 482 483 484 485 486 487 488 489 490 491 492 493 494 495 496 497 498 499\n",
            " 500 501 502 503 504 505 506 507 508 509 510 511 513 514 515 516 517 518\n",
            " 519 520 521 522 524 525 528 530 531 532 533 534 535 536 537 538 539 541\n",
            " 542 543 544 545 546 547 548 549 550 551 552 553 554 555 556 557 558 559\n",
            " 560 561 562 563 564 565 567 568], test: [ 18  23  46  58  80  81  88  93  95 101 104 106 115 121 122 139 168 185\n",
            " 192 204 213 218 241 249 250 260 261 311 314 315 318 328 355 360 361 374\n",
            " 375 379 383 385 394 402 422 440 463 465 470 472 476 479 512 523 526 527\n",
            " 529 540 566]\n",
            "train: [  0   2   3   4   5   6   7   8   9  10  11  15  16  17  18  19  20  21\n",
            "  22  23  24  25  26  28  29  30  31  32  33  34  35  36  37  38  40  41\n",
            "  42  43  44  45  46  47  48  49  50  51  52  53  54  55  56  57  58  59\n",
            "  60  62  63  64  65  66  67  68  69  71  72  74  75  76  77  78  79  80\n",
            "  81  83  84  85  86  87  88  90  92  93  94  95  96  97  99 100 101 102\n",
            " 103 104 105 106 107 108 109 110 111 112 113 114 115 116 117 118 119 120\n",
            " 121 122 124 126 128 129 130 132 133 134 135 136 137 138 139 140 141 142\n",
            " 143 144 145 146 147 148 149 150 151 152 153 154 155 156 157 158 159 160\n",
            " 161 162 163 165 166 167 168 169 170 172 173 175 176 177 178 179 180 181\n",
            " 182 183 184 185 186 187 188 189 190 192 193 194 195 196 197 198 199 200\n",
            " 201 202 203 204 205 206 207 209 210 211 212 213 214 215 216 217 218 219\n",
            " 220 221 222 223 225 226 227 228 229 230 231 232 233 234 235 236 237 239\n",
            " 240 241 242 243 244 245 246 247 248 249 250 251 252 253 254 256 257 258\n",
            " 259 260 261 262 263 264 265 266 268 269 271 272 273 274 275 276 277 278\n",
            " 279 280 281 282 283 284 285 286 287 288 289 290 291 292 293 294 295 296\n",
            " 297 298 299 301 302 303 304 305 306 307 308 309 310 311 313 314 315 316\n",
            " 317 318 319 320 321 322 324 325 326 327 328 329 330 331 332 333 334 335\n",
            " 336 337 338 339 340 342 343 344 345 346 347 348 349 350 352 353 354 355\n",
            " 356 357 358 359 360 361 362 363 365 366 367 369 370 371 372 373 374 375\n",
            " 376 377 378 379 380 381 383 384 385 386 387 389 390 391 392 393 394 395\n",
            " 397 398 399 400 401 402 403 404 405 406 407 408 409 410 411 412 413 414\n",
            " 415 416 418 419 420 421 422 424 425 429 431 432 433 434 435 437 438 439\n",
            " 440 441 442 443 444 445 447 448 449 450 451 452 453 454 455 456 457 458\n",
            " 459 460 461 462 463 465 466 468 469 470 471 472 473 474 475 476 477 478\n",
            " 479 480 483 484 485 486 487 488 489 490 491 492 493 494 495 496 497 498\n",
            " 499 501 502 503 505 506 507 508 509 510 511 512 513 514 515 516 517 518\n",
            " 519 520 521 522 523 525 526 527 529 530 531 532 533 534 535 537 538 539\n",
            " 540 542 543 544 545 546 547 548 549 550 551 553 554 555 556 557 558 559\n",
            " 560 561 562 563 564 565 566 567], test: [  1  12  13  14  27  39  61  70  73  82  89  91  98 123 125 127 131 164\n",
            " 171 174 191 208 224 238 255 267 270 300 312 323 341 351 364 368 382 388\n",
            " 396 417 423 426 427 428 430 436 446 464 467 481 482 500 504 524 528 536\n",
            " 541 552 568]\n",
            "train: [  0   1   2   3   4   5   6   7   8   9  10  11  12  13  14  15  16  17\n",
            "  18  19  20  21  22  23  24  25  26  27  28  29  30  31  32  33  34  35\n",
            "  36  37  38  39  40  41  42  43  45  46  47  48  49  50  52  54  55  56\n",
            "  57  58  59  60  61  62  63  64  65  66  67  68  69  70  71  72  73  74\n",
            "  75  76  77  78  79  80  81  82  83  84  85  86  87  88  89  90  91  92\n",
            "  93  94  95  96  97  98  99 101 102 103 104 106 107 108 109 110 111 113\n",
            " 114 115 116 117 118 119 120 121 122 123 124 125 126 127 128 129 130 131\n",
            " 132 133 134 135 136 137 139 140 141 142 143 144 146 147 148 149 151 152\n",
            " 155 156 157 159 160 161 162 164 165 166 168 169 170 171 172 173 174 176\n",
            " 177 178 179 180 181 182 183 184 185 186 187 189 190 191 192 193 194 195\n",
            " 196 197 198 199 200 201 202 203 204 205 207 208 209 210 211 212 213 214\n",
            " 215 216 217 218 219 220 221 222 223 224 225 231 232 233 234 235 236 237\n",
            " 238 239 240 241 242 243 244 245 246 247 248 249 250 252 253 254 255 257\n",
            " 258 259 260 261 262 263 264 266 267 268 269 270 273 274 276 277 278 279\n",
            " 281 282 283 284 285 286 287 288 289 291 292 293 295 296 297 299 300 301\n",
            " 302 303 304 305 306 307 308 309 310 311 312 313 314 315 316 317 318 319\n",
            " 320 321 322 323 324 325 326 327 328 329 330 331 332 333 334 335 336 337\n",
            " 338 340 341 342 343 344 346 347 348 350 351 352 353 354 355 356 357 358\n",
            " 359 360 361 362 364 367 368 369 370 371 372 374 375 376 377 378 379 380\n",
            " 381 382 383 384 385 386 387 388 389 390 391 392 393 394 395 396 397 398\n",
            " 399 400 401 402 403 404 405 407 408 409 410 411 412 413 414 415 416 417\n",
            " 418 419 420 421 422 423 424 425 426 427 428 430 431 432 434 435 436 438\n",
            " 439 440 441 442 443 445 446 447 448 450 451 452 453 454 455 456 457 458\n",
            " 459 461 462 463 464 465 466 467 468 469 470 471 472 473 474 475 476 477\n",
            " 478 479 480 481 482 483 484 485 486 487 488 489 490 491 492 494 495 496\n",
            " 497 500 501 503 504 505 506 508 509 511 512 513 514 515 516 517 518 519\n",
            " 520 522 523 524 525 526 527 528 529 530 531 532 533 534 535 536 537 539\n",
            " 540 541 542 543 544 545 546 547 548 550 551 552 553 554 555 556 557 558\n",
            " 559 561 562 563 564 565 566 568], test: [ 44  51  53 100 105 112 138 145 150 153 154 158 163 167 175 188 206 226\n",
            " 227 228 229 230 251 256 265 271 272 275 280 290 294 298 339 345 349 363\n",
            " 365 366 373 406 429 433 437 444 449 460 493 498 499 502 507 510 521 538\n",
            " 549 560 567]\n",
            "train: [  0   1   2   3   4   5   6   7   9  10  11  12  13  14  15  16  17  18\n",
            "  19  20  22  23  25  26  27  29  30  31  34  36  37  38  39  40  41  42\n",
            "  43  44  46  47  49  51  52  53  54  56  57  58  59  60  61  62  64  65\n",
            "  66  67  68  69  70  71  72  73  74  75  76  77  78  80  81  82  83  85\n",
            "  86  87  88  89  90  91  92  93  94  95  96  97  98 100 101 102 103 104\n",
            " 105 106 107 110 111 112 114 115 116 117 118 119 120 121 122 123 124 125\n",
            " 126 127 128 129 130 131 132 133 135 136 138 139 140 141 142 143 144 145\n",
            " 146 147 148 149 150 151 152 153 154 155 157 158 159 160 161 162 163 164\n",
            " 165 166 167 168 170 171 172 173 174 175 176 178 179 180 181 182 183 185\n",
            " 186 187 188 189 190 191 192 193 194 195 196 197 198 200 201 202 203 204\n",
            " 206 207 208 209 210 212 213 214 215 216 217 218 220 221 223 224 225 226\n",
            " 227 228 229 230 231 232 233 235 236 237 238 239 240 241 242 243 244 245\n",
            " 246 247 249 250 251 252 253 254 255 256 257 258 259 260 261 262 263 264\n",
            " 265 266 267 268 269 270 271 272 273 274 275 276 277 278 279 280 281 282\n",
            " 283 284 285 286 288 289 290 291 292 293 294 295 297 298 299 300 301 302\n",
            " 304 305 306 307 308 311 312 313 314 315 316 317 318 319 321 323 324 326\n",
            " 327 328 329 332 333 334 335 336 337 338 339 340 341 342 344 345 346 347\n",
            " 348 349 350 351 352 353 354 355 356 357 358 359 360 361 362 363 364 365\n",
            " 366 367 368 369 370 371 373 374 375 376 377 378 379 380 381 382 383 384\n",
            " 385 386 387 388 389 390 391 392 393 394 396 397 398 399 400 401 402 403\n",
            " 404 405 406 407 408 409 410 411 412 413 414 415 416 417 418 419 420 421\n",
            " 422 423 424 425 426 427 428 429 430 431 432 433 434 435 436 437 439 440\n",
            " 441 442 443 444 445 446 447 448 449 450 451 452 453 454 455 456 457 458\n",
            " 460 461 462 463 464 465 466 467 468 469 470 471 472 474 475 476 477 478\n",
            " 479 480 481 482 483 484 486 487 488 490 491 492 493 494 496 497 498 499\n",
            " 500 501 502 503 504 505 506 507 508 510 512 513 514 515 516 517 518 519\n",
            " 520 521 522 523 524 525 526 527 528 529 530 531 533 534 535 536 537 538\n",
            " 539 540 541 542 543 544 545 546 547 548 549 550 551 552 553 554 555 556\n",
            " 558 560 561 562 564 566 567 568], test: [  8  21  24  28  32  33  35  45  48  50  55  63  79  84  99 108 109 113\n",
            " 134 137 156 169 177 184 199 205 211 219 222 234 248 287 296 303 309 310\n",
            " 320 322 325 330 331 343 372 395 438 459 473 485 489 495 509 511 532 557\n",
            " 559 563 565]\n",
            "train: [  0   1   2   3   4   5   6   7   8   9  10  11  12  13  14  15  16  17\n",
            "  18  19  20  21  22  23  24  25  26  27  28  29  30  31  32  33  34  35\n",
            "  36  37  38  39  40  41  42  43  44  45  46  47  48  49  50  51  52  53\n",
            "  55  57  58  59  61  62  63  64  65  66  67  68  69  70  71  72  73  74\n",
            "  75  76  77  78  79  80  81  82  83  84  85  86  87  88  89  90  91  92\n",
            "  93  95  96  98  99 100 101 102 104 105 106 107 108 109 110 111 112 113\n",
            " 115 117 119 120 121 122 123 124 125 126 127 128 129 131 132 133 134 135\n",
            " 136 137 138 139 141 142 143 144 145 146 147 149 150 151 153 154 155 156\n",
            " 157 158 159 160 161 162 163 164 165 166 167 168 169 171 172 173 174 175\n",
            " 177 178 179 180 183 184 185 186 187 188 189 190 191 192 195 196 197 199\n",
            " 200 201 203 204 205 206 207 208 209 210 211 213 214 215 216 218 219 221\n",
            " 222 223 224 225 226 227 228 229 230 232 233 234 235 236 237 238 239 240\n",
            " 241 242 243 244 245 246 247 248 249 250 251 252 253 254 255 256 257 258\n",
            " 259 260 261 262 263 264 265 266 267 268 269 270 271 272 273 274 275 276\n",
            " 277 279 280 281 282 283 284 285 286 287 288 289 290 291 292 293 294 295\n",
            " 296 297 298 300 301 302 303 304 305 306 307 308 309 310 311 312 313 314\n",
            " 315 316 318 319 320 321 322 323 324 325 326 328 329 330 331 332 333 334\n",
            " 335 336 339 341 342 343 344 345 346 347 348 349 350 351 355 356 357 358\n",
            " 359 360 361 362 363 364 365 366 367 368 369 370 372 373 374 375 376 378\n",
            " 379 381 382 383 384 385 386 387 388 390 392 393 394 395 396 398 399 400\n",
            " 402 403 404 406 407 408 409 410 411 413 414 415 416 417 418 419 420 421\n",
            " 422 423 424 425 426 427 428 429 430 431 432 433 434 435 436 437 438 439\n",
            " 440 442 443 444 445 446 447 448 449 451 452 453 454 455 456 457 459 460\n",
            " 461 462 463 464 465 466 467 468 469 470 471 472 473 474 475 476 477 478\n",
            " 479 480 481 482 483 484 485 486 487 488 489 490 492 493 495 496 497 498\n",
            " 499 500 501 502 503 504 507 508 509 510 511 512 513 514 515 516 517 518\n",
            " 519 520 521 523 524 526 527 528 529 530 531 532 533 534 535 536 538 539\n",
            " 540 541 542 543 544 545 546 547 549 550 551 552 554 555 557 558 559 560\n",
            " 561 562 563 564 565 566 567 568], test: [ 54  56  60  94  97 103 114 116 118 130 140 148 152 170 176 181 182 193\n",
            " 194 198 202 212 217 220 231 278 299 317 327 337 338 340 352 353 354 371\n",
            " 377 380 389 391 397 401 405 412 441 450 458 491 494 505 506 522 525 537\n",
            " 548 553 556]\n",
            "train: [  0   1   3   4   5   6   7   8   9  11  12  13  14  15  16  17  18  19\n",
            "  21  22  23  24  25  26  27  28  29  31  32  33  34  35  37  38  39  40\n",
            "  41  42  43  44  45  46  47  48  49  50  51  53  54  55  56  58  59  60\n",
            "  61  62  63  64  65  66  67  68  69  70  71  72  73  78  79  80  81  82\n",
            "  84  85  86  88  89  90  91  92  93  94  95  97  98  99 100 101 102 103\n",
            " 104 105 106 107 108 109 110 111 112 113 114 115 116 117 118 119 120 121\n",
            " 122 123 124 125 126 127 128 129 130 131 132 133 134 135 137 138 139 140\n",
            " 141 142 144 145 146 147 148 150 152 153 154 155 156 157 158 159 160 161\n",
            " 162 163 164 165 167 168 169 170 171 172 173 174 175 176 177 178 179 180\n",
            " 181 182 184 185 186 187 188 189 191 192 193 194 195 196 197 198 199 201\n",
            " 202 204 205 206 207 208 209 211 212 213 214 215 217 218 219 220 221 222\n",
            " 223 224 225 226 227 228 229 230 231 232 233 234 235 236 237 238 241 242\n",
            " 244 245 246 247 248 249 250 251 252 254 255 256 257 258 260 261 264 265\n",
            " 267 268 270 271 272 273 274 275 276 277 278 279 280 281 282 283 284 285\n",
            " 286 287 289 290 291 292 293 294 295 296 297 298 299 300 303 304 305 306\n",
            " 307 308 309 310 311 312 313 314 315 316 317 318 319 320 322 323 324 325\n",
            " 326 327 328 329 330 331 334 335 336 337 338 339 340 341 342 343 344 345\n",
            " 346 347 349 350 351 352 353 354 355 356 357 358 360 361 362 363 364 365\n",
            " 366 367 368 370 371 372 373 374 375 376 377 378 379 380 381 382 383 385\n",
            " 386 387 388 389 390 391 392 393 394 395 396 397 398 399 400 401 402 403\n",
            " 404 405 406 407 408 409 410 411 412 413 414 415 417 419 420 421 422 423\n",
            " 424 425 426 427 428 429 430 431 432 433 434 435 436 437 438 439 440 441\n",
            " 442 443 444 445 446 447 448 449 450 451 453 454 456 457 458 459 460 462\n",
            " 463 464 465 466 467 468 470 471 472 473 476 477 478 479 480 481 482 483\n",
            " 484 485 486 487 488 489 490 491 492 493 494 495 496 497 498 499 500 501\n",
            " 502 503 504 505 506 507 508 509 510 511 512 513 514 515 517 518 519 520\n",
            " 521 522 523 524 525 526 527 528 529 531 532 534 535 536 537 538 539 540\n",
            " 541 542 543 545 546 547 548 549 550 551 552 553 554 555 556 557 558 559\n",
            " 560 562 563 564 565 566 567 568], test: [  2  10  20  30  36  52  57  74  75  76  77  83  87  96 136 143 149 151\n",
            " 166 183 190 200 203 210 216 239 240 243 253 259 262 263 266 269 288 301\n",
            " 302 321 332 333 348 359 369 384 416 418 452 455 461 469 474 475 516 530\n",
            " 533 544 561]\n",
            "train: [  0   1   2   3   4   5   6   8   9  10  11  12  13  14  16  17  18  19\n",
            "  20  21  23  24  27  28  29  30  31  32  33  34  35  36  38  39  40  41\n",
            "  42  44  45  46  47  48  49  50  51  52  53  54  55  56  57  58  59  60\n",
            "  61  62  63  65  66  67  68  69  70  73  74  75  76  77  78  79  80  81\n",
            "  82  83  84  85  87  88  89  90  91  92  93  94  95  96  97  98  99 100\n",
            " 101 102 103 104 105 106 107 108 109 110 111 112 113 114 115 116 117 118\n",
            " 119 120 121 122 123 124 125 127 128 130 131 132 133 134 135 136 137 138\n",
            " 139 140 142 143 145 146 147 148 149 150 151 152 153 154 156 157 158 159\n",
            " 160 161 162 163 164 165 166 167 168 169 170 171 172 173 174 175 176 177\n",
            " 179 180 181 182 183 184 185 186 187 188 189 190 191 192 193 194 195 197\n",
            " 198 199 200 201 202 203 204 205 206 207 208 210 211 212 213 214 216 217\n",
            " 218 219 220 221 222 223 224 225 226 227 228 229 230 231 232 233 234 236\n",
            " 237 238 239 240 241 242 243 244 245 246 247 248 249 250 251 253 255 256\n",
            " 257 258 259 260 261 262 263 265 266 267 268 269 270 271 272 273 274 275\n",
            " 277 278 280 283 284 285 286 287 288 289 290 291 292 293 294 295 296 298\n",
            " 299 300 301 302 303 304 305 306 307 308 309 310 311 312 314 315 317 318\n",
            " 320 321 322 323 324 325 326 327 328 329 330 331 332 333 334 335 337 338\n",
            " 339 340 341 342 343 344 345 346 347 348 349 350 351 352 353 354 355 358\n",
            " 359 360 361 362 363 364 365 366 368 369 370 371 372 373 374 375 376 377\n",
            " 378 379 380 382 383 384 385 386 388 389 391 392 394 395 396 397 399 400\n",
            " 401 402 403 404 405 406 407 408 409 410 411 412 413 414 415 416 417 418\n",
            " 419 420 421 422 423 424 425 426 427 428 429 430 432 433 434 435 436 437\n",
            " 438 439 440 441 442 443 444 445 446 447 448 449 450 451 452 453 455 457\n",
            " 458 459 460 461 462 463 464 465 467 469 470 472 473 474 475 476 477 479\n",
            " 480 481 482 483 484 485 486 487 488 489 491 492 493 494 495 496 498 499\n",
            " 500 501 502 504 505 506 507 509 510 511 512 514 516 517 518 519 520 521\n",
            " 522 523 524 525 526 527 528 529 530 531 532 533 535 536 537 538 539 540\n",
            " 541 542 544 545 546 547 548 549 550 551 552 553 554 555 556 557 558 559\n",
            " 560 561 562 563 564 565 566 567 568], test: [  7  15  22  25  26  37  43  64  71  72  86 126 129 141 144 155 178 196\n",
            " 209 215 235 252 254 264 276 279 281 282 297 313 316 319 336 356 357 367\n",
            " 381 387 390 393 398 431 454 456 466 468 471 478 490 497 503 508 513 515\n",
            " 534 543]\n"
          ],
          "name": "stdout"
        }
      ]
    },
    {
      "cell_type": "code",
      "metadata": {
        "id": "0H5Qx5D1lXXn",
        "colab": {
          "base_uri": "https://localhost:8080/"
        },
        "outputId": "2e820a50-2f8a-4b71-f075-ce2b65b521b5"
      },
      "source": [
        "from sklearn.model_selection import RepeatedKFold\n",
        "from sklearn.model_selection import cross_val_score\n",
        "from numpy import mean\n",
        "from numpy import std\n",
        "\n",
        "cv = RepeatedKFold(n_splits=10, n_repeats=1, random_state=1)\n",
        "scores = cross_val_score(lda, X, y, scoring='accuracy', cv=cv, n_jobs=-1)\n",
        "# report performance\n",
        "print('Accuracy: %.3f (%.3f)' % (mean(scores), std(scores)))"
      ],
      "execution_count": null,
      "outputs": [
        {
          "output_type": "stream",
          "text": [
            "Accuracy: 0.967 (0.029)\n"
          ],
          "name": "stdout"
        }
      ]
    },
    {
      "cell_type": "code",
      "metadata": {
        "id": "5-Rkn0qVz7ba",
        "colab": {
          "base_uri": "https://localhost:8080/"
        },
        "outputId": "c1f25474-8516-406c-f4ea-e2faff2a2f25"
      },
      "source": [
        "accuracy = cross_val_score(lda, X, y, scoring='accuracy', cv = cv)\n",
        "print(accuracy)\n",
        "#get the mean of each fold \n",
        "print(\"Accuracy of Model with Cross Validation is:\",accuracy * 100)\n",
        "print(\"Misclassification Error Rate is:\", (1-accuracy) * 100)\n",
        "missclass_rate = (1-accuracy) * 100\n",
        "misclass_rate_total = []\n",
        "for i in range(9):\n",
        "  misclass_rate_total.append(missclass_rate[i]*512)\n",
        "misclass_rate_total.append(missclass_rate[9]*513)\n",
        "#print(misclass_rate_total)\n",
        "\n",
        "\n",
        "rate_total = sum(misclass_rate_total)/(10*512)\n",
        "\n",
        "misclass_rate_mean = mean(missclass_rate)\n",
        "print(misclass_rate_mean)\n",
        "\n",
        "print(rate_total)\n",
        "#print(missclass_rate)\n",
        "\n",
        "print(\"Total Misclassification Error: \", rate_total)"
      ],
      "execution_count": null,
      "outputs": [
        {
          "output_type": "stream",
          "text": [
            "[0.96491228 0.94736842 0.96491228 0.96491228 0.89473684 1.\n",
            " 0.98245614 1.         0.98245614 0.96428571]\n",
            "Accuracy of Model with Cross Validation is: [ 96.49122807  94.73684211  96.49122807  96.49122807  89.47368421\n",
            " 100.          98.24561404 100.          98.24561404  96.42857143]\n",
            "Misclassification Error Rate is: [ 3.50877193  5.26315789  3.50877193  3.50877193 10.52631579  0.\n",
            "  1.75438596  0.          1.75438596  3.57142857]\n",
            "3.3395989974937357\n",
            "3.340296542136593\n",
            "Total Misclassification Error:  3.340296542136593\n"
          ],
          "name": "stdout"
        }
      ]
    },
    {
      "cell_type": "code",
      "metadata": {
        "id": "aj18lfHv2uh_",
        "colab": {
          "base_uri": "https://localhost:8080/",
          "height": 366
        },
        "outputId": "d6f4d126-567b-4725-97a4-adf9804af4e0"
      },
      "source": [
        "import matplotlib.pyplot as plt\n",
        "fig = plt.figure()\n",
        "ax = fig.add_axes([0,0,1,1])\n",
        "langs = range(10)\n",
        "ax.bar(langs,missclass_rate)\n",
        "\n",
        "ax.set_ylabel('Rate')\n",
        "ax.set_xlabel('K-fold')\n",
        "ax.set_title('Missclassification Error Rate By K-Fold')\n",
        "\n",
        "plt.show()\n",
        "plt.close()"
      ],
      "execution_count": null,
      "outputs": [
        {
          "output_type": "display_data",
          "data": {
            "image/png": "[encoded data removed]",
            "text/plain": [
              "<Figure size 432x288 with 1 Axes>"
            ]
          },
          "metadata": {
            "tags": [],
            "needs_background": "light"
          }
        }
      ]
    },
    {
      "cell_type": "code",
      "metadata": {
        "id": "LalmSwN8FGi_",
        "colab": {
          "base_uri": "https://localhost:8080/"
        },
        "outputId": "98504fcc-f383-4e36-c8b4-9373279bee00"
      },
      "source": [
        "#mPCA = pcaDataLog.drop(['id','diag','PC18','PC19','PC20','PC21','PC22','PC23','PC24','PC25','PC26','PC27','PC28','PC29'], axis=1)\n",
        "\n",
        "modelPCA = lda.fit(mPCA, y_)\n",
        "\n",
        "print(modelPCA.priors_)\n",
        "print(modelPCA.means_)\n",
        "predPCA=modelPCA.predict(mPCA)"
      ],
      "execution_count": null,
      "outputs": [
        {
          "output_type": "stream",
          "text": [
            "[0.62741652 0.37258348]\n",
            "[[ 2.27580256  0.33430338  0.09692044 -0.16569408]\n",
            " [-3.83236563 -0.56295427 -0.16321036  0.27902258]]\n"
          ],
          "name": "stdout"
        }
      ]
    },
    {
      "cell_type": "code",
      "metadata": {
        "id": "nfI_sYrzrqRr",
        "colab": {
          "base_uri": "https://localhost:8080/"
        },
        "outputId": "cdb7f313-b866-46d6-fd36-e71fb43cb98c"
      },
      "source": [
        "print(confusion_matrix(predPCA, y_))\n",
        "print(classification_report(y_, predPCA, digits=3))\n",
        "cm_lda_pca = confusion_matrix(predPCA, y_)"
      ],
      "execution_count": null,
      "outputs": [
        {
          "output_type": "stream",
          "text": [
            "[[355  17]\n",
            " [  2 195]]\n",
            "              precision    recall  f1-score   support\n",
            "\n",
            "           0      0.954     0.994     0.974       357\n",
            "           1      0.990     0.920     0.954       212\n",
            "\n",
            "    accuracy                          0.967       569\n",
            "   macro avg      0.972     0.957     0.964       569\n",
            "weighted avg      0.968     0.967     0.966       569\n",
            "\n"
          ],
          "name": "stdout"
        }
      ]
    },
    {
      "cell_type": "code",
      "metadata": {
        "id": "reqITcZsPs_K",
        "colab": {
          "base_uri": "https://localhost:8080/",
          "height": 313
        },
        "outputId": "ab3e3a0c-f91f-4575-cb77-fbee554f3ef6"
      },
      "source": [
        "import seaborn as sn\n",
        "cm_lda_pca = confusion_matrix(predPCA, y_)\n",
        "cm_lda_pca.astype(int)\n",
        "\n",
        "df_cm = pd.DataFrame(cm_lda_pca, range(2), range(2))\n",
        "\n",
        "ax = plt.subplot()\n",
        "plt.figure()\n",
        "sn.heatmap(df_cm, annot=True, annot_kws={\"size\": 16}, fmt='g', ax = ax)\n",
        "\n",
        "\n",
        "ax.set_title('Confusion Matrix'); \n",
        "ax.set_xlabel('Predicted labels');ax.set_ylabel('True labels'); \n",
        "ax.xaxis.set_ticklabels(['benign', 'malignant']); ax.yaxis.set_ticklabels(['benign', 'malignant']);\n",
        "\n",
        "#print(df_cm)"
      ],
      "execution_count": null,
      "outputs": [
        {
          "output_type": "display_data",
          "data": {
            "image/png": "[encoded data removed]",
            "text/plain": [
              "<Figure size 432x288 with 2 Axes>"
            ]
          },
          "metadata": {
            "tags": [],
            "needs_background": "light"
          }
        },
        {
          "output_type": "display_data",
          "data": {
            "text/plain": [
              "<Figure size 432x288 with 0 Axes>"
            ]
          },
          "metadata": {
            "tags": []
          }
        }
      ]
    },
    {
      "cell_type": "code",
      "metadata": {
        "id": "CTvEoscAfqXG",
        "colab": {
          "base_uri": "https://localhost:8080/",
          "height": 437
        },
        "outputId": "7d4cdce2-d270-4be1-a2ec-54fa80807b40"
      },
      "source": [
        "from sklearn.datasets import make_classification\n",
        "from sklearn.neighbors import KNeighborsClassifier\n",
        "from sklearn.ensemble import RandomForestClassifier\n",
        "from sklearn.model_selection import train_test_split\n",
        "from sklearn.metrics import roc_curve\n",
        "from sklearn.metrics import roc_auc_score\n",
        "\n",
        "def plot_roc_curve(fpr, tpr):\n",
        "    plt.plot(fpr, tpr, color='orange', label='ROC')\n",
        "    plt.plot([0, 1], [0, 1], color='darkblue', linestyle='--')\n",
        "    plt.xlabel('False Positive Rate')\n",
        "    plt.ylabel('True Positive Rate')\n",
        "    plt.title('Receiver Operating Characteristic (ROC) Curve')\n",
        "    plt.legend()\n",
        "    plt.show()\n",
        "\n",
        "\n",
        "probs = modelPCA.predict_proba(mPCA)\n",
        "print(probs)\n",
        "probs = probs[:, 1]\n",
        "auc = roc_auc_score(y_, probs)\n",
        "print('AUC: %.2f' % auc)\n",
        "\n",
        "fpr, tpr, thresholds = roc_curve(y_, probs)\n",
        "plot_roc_curve(fpr, tpr)\n",
        "#print(y)"
      ],
      "execution_count": null,
      "outputs": [
        {
          "output_type": "stream",
          "text": [
            "[[9.71056574e-05 9.99902894e-01]\n",
            " [3.30078108e-02 9.66992189e-01]\n",
            " [3.37273217e-04 9.99662727e-01]\n",
            " ...\n",
            " [7.17861558e-02 9.28213844e-01]\n",
            " [1.61923897e-07 9.99999838e-01]\n",
            " [9.99988797e-01 1.12029809e-05]]\n",
            "AUC: 0.99\n"
          ],
          "name": "stdout"
        },
        {
          "output_type": "display_data",
          "data": {
            "image/png": "[encoded data removed]",
            "text/plain": [
              "<Figure size 432x288 with 1 Axes>"
            ]
          },
          "metadata": {
            "tags": [],
            "needs_background": "light"
          }
        }
      ]
    },
    {
      "cell_type": "code",
      "metadata": {
        "id": "YTpdfghUm0q6",
        "colab": {
          "base_uri": "https://localhost:8080/",
          "height": 313
        },
        "outputId": "99a55973-585e-4ee7-d190-392e11ee0187"
      },
      "source": [
        "scores = modelPCA.predict_proba(mPCA)[:,1]\n",
        "fpr, tpr, thresholds = roc_curve(y_, scores)\n",
        "\n",
        "roc_auc = roc_auc_score(y_, scores)\n",
        "print(\"AUC of ROC Curve:\", roc_auc)\n",
        "\n",
        "plt.plot(fpr, tpr,color='orange', label='ROC')\n",
        "plt.title(\"ROC Curve\")\n",
        "plt.xlabel(\"False Positive Rate\")\n",
        "plt.ylabel(\"True Positive Rate\")\n",
        "plt.plot([0, 1], [0, 1], color='darkblue', linestyle='--')\n",
        "plt.show()"
      ],
      "execution_count": null,
      "outputs": [
        {
          "output_type": "stream",
          "text": [
            "AUC of ROC Curve: 0.9936049891654775\n"
          ],
          "name": "stdout"
        },
        {
          "output_type": "display_data",
          "data": {
            "image/png": "[encoded data removed]",
            "text/plain": [
              "<Figure size 432x288 with 1 Axes>"
            ]
          },
          "metadata": {
            "tags": [],
            "needs_background": "light"
          }
        }
      ]
    },
    {
      "cell_type": "code",
      "metadata": {
        "id": "jDuFAvkyLHvY",
        "colab": {
          "base_uri": "https://localhost:8080/",
          "height": 745
        },
        "outputId": "72696004-d1b1-4752-c617-b7b06cebab90"
      },
      "source": [
        "fig = plt.figure(figsize = (8,8))\n",
        "ax = fig.add_subplot(1,1,1)\n",
        "ax.set_xlabel('Principal Component 1', fontsize = 15)\n",
        "ax.set_ylabel('Principal Component 2', fontsize = 15)\n",
        "ax.set_title('2 component PCA', fontsize = 20)\n",
        "targets = ['M', 'B']\n",
        "colors = ['r', 'b']\n",
        "for target, color in zip(targets,colors):\n",
        "  indicesToKeep = pca_Df1['diag'] == target\n",
        "  ax.scatter(pca_Df1.loc[indicesToKeep, 'PC1'], pca_Df1.loc[indicesToKeep, 'PC2'], c = color, s = 50)\n",
        "ax.legend(targets)\n",
        "ax.grid()"
      ],
      "execution_count": null,
      "outputs": [
        {
          "output_type": "error",
          "ename": "NameError",
          "evalue": "ignored",
          "traceback": [
            "\u001b[0;31m---------------------------------------------------------------------------\u001b[0m",
            "\u001b[0;31mNameError\u001b[0m                                 Traceback (most recent call last)",
            "\u001b[0;32m<ipython-input-22-bdc34556940c>\u001b[0m in \u001b[0;36m<module>\u001b[0;34m()\u001b[0m\n\u001b[1;32m      7\u001b[0m \u001b[0mcolors\u001b[0m \u001b[0;34m=\u001b[0m \u001b[0;34m[\u001b[0m\u001b[0;34m'r'\u001b[0m\u001b[0;34m,\u001b[0m \u001b[0;34m'b'\u001b[0m\u001b[0;34m]\u001b[0m\u001b[0;34m\u001b[0m\u001b[0;34m\u001b[0m\u001b[0m\n\u001b[1;32m      8\u001b[0m \u001b[0;32mfor\u001b[0m \u001b[0mtarget\u001b[0m\u001b[0;34m,\u001b[0m \u001b[0mcolor\u001b[0m \u001b[0;32min\u001b[0m \u001b[0mzip\u001b[0m\u001b[0;34m(\u001b[0m\u001b[0mtargets\u001b[0m\u001b[0;34m,\u001b[0m\u001b[0mcolors\u001b[0m\u001b[0;34m)\u001b[0m\u001b[0;34m:\u001b[0m\u001b[0;34m\u001b[0m\u001b[0;34m\u001b[0m\u001b[0m\n\u001b[0;32m----> 9\u001b[0;31m   \u001b[0mindicesToKeep\u001b[0m \u001b[0;34m=\u001b[0m \u001b[0mpca_Df1\u001b[0m\u001b[0;34m[\u001b[0m\u001b[0;34m'diag'\u001b[0m\u001b[0;34m]\u001b[0m \u001b[0;34m==\u001b[0m \u001b[0mtarget\u001b[0m\u001b[0;34m\u001b[0m\u001b[0;34m\u001b[0m\u001b[0m\n\u001b[0m\u001b[1;32m     10\u001b[0m   \u001b[0max\u001b[0m\u001b[0;34m.\u001b[0m\u001b[0mscatter\u001b[0m\u001b[0;34m(\u001b[0m\u001b[0mpca_Df1\u001b[0m\u001b[0;34m.\u001b[0m\u001b[0mloc\u001b[0m\u001b[0;34m[\u001b[0m\u001b[0mindicesToKeep\u001b[0m\u001b[0;34m,\u001b[0m \u001b[0;34m'PC1'\u001b[0m\u001b[0;34m]\u001b[0m\u001b[0;34m,\u001b[0m \u001b[0mpca_Df1\u001b[0m\u001b[0;34m.\u001b[0m\u001b[0mloc\u001b[0m\u001b[0;34m[\u001b[0m\u001b[0mindicesToKeep\u001b[0m\u001b[0;34m,\u001b[0m \u001b[0;34m'PC2'\u001b[0m\u001b[0;34m]\u001b[0m\u001b[0;34m,\u001b[0m \u001b[0mc\u001b[0m \u001b[0;34m=\u001b[0m \u001b[0mcolor\u001b[0m\u001b[0;34m,\u001b[0m \u001b[0ms\u001b[0m \u001b[0;34m=\u001b[0m \u001b[0;36m50\u001b[0m\u001b[0;34m)\u001b[0m\u001b[0;34m\u001b[0m\u001b[0;34m\u001b[0m\u001b[0m\n\u001b[1;32m     11\u001b[0m \u001b[0max\u001b[0m\u001b[0;34m.\u001b[0m\u001b[0mlegend\u001b[0m\u001b[0;34m(\u001b[0m\u001b[0mtargets\u001b[0m\u001b[0;34m)\u001b[0m\u001b[0;34m\u001b[0m\u001b[0;34m\u001b[0m\u001b[0m\n",
            "\u001b[0;31mNameError\u001b[0m: name 'pca_Df1' is not defined"
          ]
        },
        {
          "output_type": "display_data",
          "data": {
            "image/png": "[encoded data removed]",
            "text/plain": [
              "<Figure size 576x576 with 1 Axes>"
            ]
          },
          "metadata": {
            "tags": [],
            "needs_background": "light"
          }
        }
      ]
    },
    {
      "cell_type": "markdown",
      "metadata": {
        "id": "nPaoSdxAi0jy"
      },
      "source": [
        "Start QDA"
      ]
    },
    {
      "cell_type": "code",
      "metadata": {
        "id": "tqteceb821KK"
      },
      "source": [
        "qda = QuadraticDiscriminantAnalysis()\n",
        "model2 = qda.fit(X, y)\n",
        "#print(model2.priors_)\n",
        "#print(model2.means_)\n",
        "model_QDA_PCA = qda.fit(mPCA,y_)\n",
        "pred_QDA_PCA = model_QDA_PCA.predict(mPCA)"
      ],
      "execution_count": null,
      "outputs": []
    },
    {
      "cell_type": "code",
      "metadata": {
        "id": "MekK1uI-Hsyv",
        "colab": {
          "base_uri": "https://localhost:8080/"
        },
        "outputId": "8a372e86-7ed2-4383-e910-4e6c73b5ca61"
      },
      "source": [
        "print(np.unique(pred_QDA_PCA, return_counts=True))\n",
        "print(confusion_matrix(pred_QDA_PCA, y_))\n",
        "print(classification_report(y_, pred_QDA_PCA, digits=3))\n",
        "\n",
        "cm_qda_pca = confusion_matrix(pred_QDA_PCA, y_)"
      ],
      "execution_count": null,
      "outputs": [
        {
          "output_type": "stream",
          "text": [
            "(array([0, 1]), array([360, 209]))\n",
            "[[348  12]\n",
            " [  9 200]]\n",
            "              precision    recall  f1-score   support\n",
            "\n",
            "           0      0.967     0.975     0.971       357\n",
            "           1      0.957     0.943     0.950       212\n",
            "\n",
            "    accuracy                          0.963       569\n",
            "   macro avg      0.962     0.959     0.960       569\n",
            "weighted avg      0.963     0.963     0.963       569\n",
            "\n"
          ],
          "name": "stdout"
        }
      ]
    },
    {
      "cell_type": "code",
      "metadata": {
        "id": "80NV1uPsOTLV"
      },
      "source": [
        ""
      ],
      "execution_count": null,
      "outputs": []
    },
    {
      "cell_type": "code",
      "metadata": {
        "id": "_WiiEvViA4z4",
        "colab": {
          "base_uri": "https://localhost:8080/",
          "height": 313
        },
        "outputId": "f0f301a1-8ec2-450a-974a-fdcce1e0b6ac"
      },
      "source": [
        "import seaborn as sn\n",
        "cm_qda_pca.astype(int)\n",
        "\n",
        "\n",
        "df_cm_qda = pd.DataFrame(cm_qda_pca, range(2), range(2))\n",
        "\n",
        "ax= plt.subplot()\n",
        "plt.figure()\n",
        "sn.heatmap(df_cm_qda, annot=True, annot_kws={\"size\": 16}, fmt='g', ax = ax)\n",
        "ax.set_title('Confusion Matrix'); \n",
        "ax.set_xlabel('Predicted labels');ax.set_ylabel('True labels'); \n",
        "ax.xaxis.set_ticklabels(['benign', 'malignant']); ax.yaxis.set_ticklabels(['benign', 'malignant']);\n",
        "#print(df_cm_qda)"
      ],
      "execution_count": null,
      "outputs": [
        {
          "output_type": "display_data",
          "data": {
            "image/png": "[encoded data removed]",
            "text/plain": [
              "<Figure size 432x288 with 2 Axes>"
            ]
          },
          "metadata": {
            "tags": [],
            "needs_background": "light"
          }
        },
        {
          "output_type": "display_data",
          "data": {
            "text/plain": [
              "<Figure size 432x288 with 0 Axes>"
            ]
          },
          "metadata": {
            "tags": []
          }
        }
      ]
    },
    {
      "cell_type": "code",
      "metadata": {
        "id": "fRkZy8i1gyOq",
        "colab": {
          "base_uri": "https://localhost:8080/",
          "height": 313
        },
        "outputId": "00540c31-0030-48ee-8630-351d1377ae87"
      },
      "source": [
        "probs2 = model_QDA_PCA.predict_proba(mPCA)\n",
        "probspositive_qda = probs2[:, 1]\n",
        "auc2 = roc_auc_score(y_, probspositive_qda)\n",
        "print('AUC: %.2f' % auc2)\n",
        "fpr2, tpr2, thresholds2 = roc_curve(y_, probspositive_qda)\n",
        "plot_roc_curve(fpr2, tpr2)"
      ],
      "execution_count": null,
      "outputs": [
        {
          "output_type": "stream",
          "text": [
            "AUC: 0.99\n"
          ],
          "name": "stdout"
        },
        {
          "output_type": "display_data",
          "data": {
            "image/png": "[encoded data removed]",
            "text/plain": [
              "<Figure size 432x288 with 1 Axes>"
            ]
          },
          "metadata": {
            "tags": [],
            "needs_background": "light"
          }
        }
      ]
    },
    {
      "cell_type": "code",
      "metadata": {
        "id": "RxL5cg8Un1OS",
        "colab": {
          "base_uri": "https://localhost:8080/",
          "height": 313
        },
        "outputId": "e75ef059-a4b0-48a1-86a1-8227ef3316e1"
      },
      "source": [
        "scores_QDA = model_QDA_PCA.predict_proba(mPCA)[:,1]\n",
        "fpr2, tpr2, thresholds2 = roc_curve(y_, scores_QDA)\n",
        "\n",
        "roc_auc2 = roc_auc_score(y_, scores_QDA)\n",
        "print(\"AUC of ROC Curve:\", roc_auc2)\n",
        "\n",
        "plt.plot(fpr2, tpr2,color='orange', label='ROC')\n",
        "plt.title(\"ROC Curve\")\n",
        "plt.xlabel(\"False Positive Rate\")\n",
        "plt.ylabel(\"True Positive Rate\")\n",
        "plt.plot([0, 1], [0, 1], color='darkblue', linestyle='--')\n",
        "plt.show()"
      ],
      "execution_count": null,
      "outputs": [
        {
          "output_type": "stream",
          "text": [
            "AUC of ROC Curve: 0.9943845462713388\n"
          ],
          "name": "stdout"
        },
        {
          "output_type": "display_data",
          "data": {
            "image/png": "[encoded data removed]",
            "text/plain": [
              "<Figure size 432x288 with 1 Axes>"
            ]
          },
          "metadata": {
            "tags": [],
            "needs_background": "light"
          }
        }
      ]
    },
    {
      "cell_type": "code",
      "metadata": {
        "id": "7ZulXmfnA7lM",
        "colab": {
          "base_uri": "https://localhost:8080/"
        },
        "outputId": "ac0d4bb1-898d-4fea-d01c-2087664f3255"
      },
      "source": [
        "#cv = RepeatedKFold(n_splits=10, n_repeats=1, random_state=1)\n",
        "scores2 = cross_val_score(qda, X, y, scoring='accuracy', cv=cv, n_jobs=-1)\n",
        "# report performance\n",
        "print('Accuracy: %.3f (%.3f)' % (mean(scores2), std(scores2)))"
      ],
      "execution_count": null,
      "outputs": [
        {
          "output_type": "stream",
          "text": [
            "Accuracy: 0.963 (0.027)\n"
          ],
          "name": "stdout"
        }
      ]
    },
    {
      "cell_type": "code",
      "metadata": {
        "id": "g7tAFtBR5bSV",
        "colab": {
          "base_uri": "https://localhost:8080/"
        },
        "outputId": "929c8ba5-c6ff-4f99-cf26-947ee3e28512"
      },
      "source": [
        "accuracy2 = cross_val_score(qda, mPCA, y_, scoring='accuracy', cv = cv)\n",
        "print(accuracy2)\n",
        "#get the mean of each fold \n",
        "print(\"Accuracy of Model with Cross Validation is:\",accuracy2 * 100)\n",
        "print(\"Misclassification Error Rate is:\", (1-accuracy2) * 100)\n",
        "missclass_rate2 = (1-accuracy2) * 100\n",
        "\n",
        "misclass_rate_mean2 = mean(missclass_rate2)\n",
        "misclass_rate_mean2"
      ],
      "execution_count": null,
      "outputs": [
        {
          "output_type": "stream",
          "text": [
            "[0.98245614 0.96491228 0.94736842 0.94736842 0.89473684 0.96491228\n",
            " 0.98245614 0.98245614 0.98245614 0.98214286]\n",
            "Accuracy of Model with Cross Validation is: [98.24561404 96.49122807 94.73684211 94.73684211 89.47368421 96.49122807\n",
            " 98.24561404 98.24561404 98.24561404 98.21428571]\n",
            "Misclassification Error Rate is: [ 1.75438596  3.50877193  5.26315789  5.26315789 10.52631579  3.50877193\n",
            "  1.75438596  1.75438596  1.75438596  1.78571429]\n"
          ],
          "name": "stdout"
        },
        {
          "output_type": "execute_result",
          "data": {
            "text/plain": [
              "3.6873433583959936"
            ]
          },
          "metadata": {
            "tags": []
          },
          "execution_count": 29
        }
      ]
    },
    {
      "cell_type": "code",
      "metadata": {
        "id": "OxpPlkPZ5wZf",
        "colab": {
          "base_uri": "https://localhost:8080/",
          "height": 366
        },
        "outputId": "4ebf9e7c-e4f9-4354-8f77-e259f78355ac"
      },
      "source": [
        "\n",
        "fig2 = plt.figure()\n",
        "ax2 = fig2.add_axes([0,0,1,1])\n",
        "ax2.bar(range(10),missclass_rate2)\n",
        "ax2.set_ylabel('Rate')\n",
        "ax2.set_xlabel('K-fold')\n",
        "ax2.set_title('Missclassification Error Rate By K-Fold')\n",
        "plt.show()\n",
        "plt.close()"
      ],
      "execution_count": null,
      "outputs": [
        {
          "output_type": "display_data",
          "data": {
            "image/png": "[encoded data removed]",
            "text/plain": [
              "<Figure size 432x288 with 1 Axes>"
            ]
          },
          "metadata": {
            "tags": [],
            "needs_background": "light"
          }
        }
      ]
    },
    {
      "cell_type": "code",
      "metadata": {
        "id": "rLmqHFhATuAZ"
      },
      "source": [
        "print(X)\n",
        "print(mPCA)\n",
        "print(y, y_)"
      ],
      "execution_count": null,
      "outputs": []
    },
    {
      "cell_type": "code",
      "metadata": {
        "id": "NGdhDBBvUJWe"
      },
      "source": [
        ""
      ],
      "execution_count": null,
      "outputs": []
    }
  ]
}